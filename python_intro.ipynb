{
  "nbformat": 4,
  "nbformat_minor": 0,
  "metadata": {
    "colab": {
      "provenance": [],
      "authorship_tag": "ABX9TyOfxoagoeDRxslXavbu6yTs",
      "include_colab_link": true
    },
    "kernelspec": {
      "name": "python3",
      "display_name": "Python 3"
    },
    "language_info": {
      "name": "python"
    }
  },
  "cells": [
    {
      "cell_type": "markdown",
      "metadata": {
        "id": "view-in-github",
        "colab_type": "text"
      },
      "source": [
        "<a href=\"https://colab.research.google.com/github/Stinger101/Python-Intro/blob/main/python_intro.ipynb\" target=\"_parent\"><img src=\"https://colab.research.google.com/assets/colab-badge.svg\" alt=\"Open In Colab\"/></a>"
      ]
    },
    {
      "cell_type": "code",
      "execution_count": 36,
      "metadata": {
        "colab": {
          "base_uri": "https://localhost:8080/",
          "height": 0
        },
        "id": "rVQ4DgCx86SM",
        "outputId": "58f6ab28-4e48-4eef-c473-24a72e3de377"
      },
      "outputs": [
        {
          "output_type": "stream",
          "name": "stdout",
          "text": [
            "Hello World!!!\n"
          ]
        }
      ],
      "source": [
        "print(\"Hello World!!!\")"
      ]
    },
    {
      "cell_type": "code",
      "source": [
        "1+1"
      ],
      "metadata": {
        "colab": {
          "base_uri": "https://localhost:8080/",
          "height": 0
        },
        "id": "xk0Xpu8d-v6N",
        "outputId": "8b4172f3-00c0-43c5-c518-6666915696fe"
      },
      "execution_count": 37,
      "outputs": [
        {
          "output_type": "execute_result",
          "data": {
            "text/plain": [
              "2"
            ]
          },
          "metadata": {},
          "execution_count": 37
        }
      ]
    },
    {
      "cell_type": "code",
      "source": [
        "4/2"
      ],
      "metadata": {
        "colab": {
          "base_uri": "https://localhost:8080/",
          "height": 0
        },
        "id": "rzvZ1hooAA-o",
        "outputId": "0191b359-c6b8-4f0b-dc9a-b2d7ab5b6810"
      },
      "execution_count": 38,
      "outputs": [
        {
          "output_type": "execute_result",
          "data": {
            "text/plain": [
              "2.0"
            ]
          },
          "metadata": {},
          "execution_count": 38
        }
      ]
    },
    {
      "cell_type": "code",
      "source": [
        "def addition():\n",
        "  print(1+1)"
      ],
      "metadata": {
        "id": "YjnkFX-jAEOn"
      },
      "execution_count": 39,
      "outputs": []
    },
    {
      "cell_type": "code",
      "source": [
        "addition()"
      ],
      "metadata": {
        "colab": {
          "base_uri": "https://localhost:8080/",
          "height": 0
        },
        "id": "tTyddmB-EmGh",
        "outputId": "076c3b4a-5bfc-42dd-d7e3-0c4938c2e824"
      },
      "execution_count": 40,
      "outputs": [
        {
          "output_type": "stream",
          "name": "stdout",
          "text": [
            "2\n"
          ]
        }
      ]
    },
    {
      "cell_type": "code",
      "source": [
        "def addition_v1(num_1,num_2):\n",
        "  return num_1+num_2"
      ],
      "metadata": {
        "id": "MSbJKsNUFF02"
      },
      "execution_count": 41,
      "outputs": []
    },
    {
      "cell_type": "code",
      "source": [
        "addition_v1(30,40)"
      ],
      "metadata": {
        "colab": {
          "base_uri": "https://localhost:8080/",
          "height": 0
        },
        "id": "uYLbUx7PGcvJ",
        "outputId": "be0113a7-b865-4bf8-adc5-195e224d561e"
      },
      "execution_count": 42,
      "outputs": [
        {
          "output_type": "execute_result",
          "data": {
            "text/plain": [
              "70"
            ]
          },
          "metadata": {},
          "execution_count": 42
        }
      ]
    },
    {
      "cell_type": "markdown",
      "source": [
        "# Create a function that adds any two numbers and divides the result by 100"
      ],
      "metadata": {
        "id": "h6xVXLPyHCuV"
      }
    },
    {
      "cell_type": "code",
      "source": [
        "def add_v3(a,b):\n",
        "  print((a+b)/100)"
      ],
      "metadata": {
        "id": "-cOtX7vGGkzU"
      },
      "execution_count": 43,
      "outputs": []
    },
    {
      "cell_type": "code",
      "source": [
        "add_v3(50,50)"
      ],
      "metadata": {
        "colab": {
          "base_uri": "https://localhost:8080/",
          "height": 0
        },
        "id": "f2YlEl-PNd5c",
        "outputId": "a16237e1-bc66-4630-bb33-ec19576036af"
      },
      "execution_count": 44,
      "outputs": [
        {
          "output_type": "stream",
          "name": "stdout",
          "text": [
            "1.0\n"
          ]
        }
      ]
    },
    {
      "cell_type": "code",
      "source": [
        "a=1"
      ],
      "metadata": {
        "id": "FRckxuk6V1Z7"
      },
      "execution_count": 45,
      "outputs": []
    },
    {
      "cell_type": "code",
      "source": [
        "print(a)"
      ],
      "metadata": {
        "colab": {
          "base_uri": "https://localhost:8080/",
          "height": 0
        },
        "id": "2dzRWeAIV3OO",
        "outputId": "ec525c6c-f15f-435f-914a-08dfba4f1dae"
      },
      "execution_count": 46,
      "outputs": [
        {
          "output_type": "stream",
          "name": "stdout",
          "text": [
            "1\n"
          ]
        }
      ]
    },
    {
      "cell_type": "code",
      "source": [
        "a=10"
      ],
      "metadata": {
        "id": "rhiTHe7MV75N"
      },
      "execution_count": 47,
      "outputs": []
    },
    {
      "cell_type": "code",
      "source": [
        "a+5"
      ],
      "metadata": {
        "colab": {
          "base_uri": "https://localhost:8080/",
          "height": 0
        },
        "id": "x4sfG22OWjiQ",
        "outputId": "066ddc17-0aeb-4918-84c0-5f24ed041cca"
      },
      "execution_count": 48,
      "outputs": [
        {
          "output_type": "execute_result",
          "data": {
            "text/plain": [
              "15"
            ]
          },
          "metadata": {},
          "execution_count": 48
        }
      ]
    },
    {
      "cell_type": "code",
      "source": [
        "a=100"
      ],
      "metadata": {
        "id": "k5Rb-heNWoou"
      },
      "execution_count": 49,
      "outputs": []
    },
    {
      "cell_type": "code",
      "source": [
        "def minus(a,b):\n",
        "  return a-b"
      ],
      "metadata": {
        "id": "uS0dHkEFWs56"
      },
      "execution_count": 50,
      "outputs": []
    },
    {
      "cell_type": "code",
      "source": [
        "minus(90,10)+1"
      ],
      "metadata": {
        "colab": {
          "base_uri": "https://localhost:8080/",
          "height": 0
        },
        "id": "29FRSwqLXeWr",
        "outputId": "e6420f28-04ac-4d26-98f6-53a7ff3b3495"
      },
      "execution_count": 51,
      "outputs": [
        {
          "output_type": "execute_result",
          "data": {
            "text/plain": [
              "81"
            ]
          },
          "metadata": {},
          "execution_count": 51
        }
      ]
    },
    {
      "cell_type": "code",
      "source": [
        "temp_dif = minus(56,30)"
      ],
      "metadata": {
        "id": "-xWmWn1gXl12"
      },
      "execution_count": 52,
      "outputs": []
    },
    {
      "cell_type": "code",
      "source": [
        "print(temp_dif)"
      ],
      "metadata": {
        "colab": {
          "base_uri": "https://localhost:8080/",
          "height": 0
        },
        "id": "wfARd2xvYUm-",
        "outputId": "2aa4a681-d999-48a5-803b-342244ee9f0f"
      },
      "execution_count": 53,
      "outputs": [
        {
          "output_type": "stream",
          "name": "stdout",
          "text": [
            "26\n"
          ]
        }
      ]
    },
    {
      "cell_type": "code",
      "source": [
        "(50/100 *20) + (60/100*30) + (70/100*50)"
      ],
      "metadata": {
        "colab": {
          "base_uri": "https://localhost:8080/",
          "height": 0
        },
        "id": "mKuVUdmAasff",
        "outputId": "d289ccf7-0a10-4e12-a133-563ed65f45bb"
      },
      "execution_count": 54,
      "outputs": [
        {
          "output_type": "execute_result",
          "data": {
            "text/plain": [
              "63.0"
            ]
          },
          "metadata": {},
          "execution_count": 54
        }
      ]
    },
    {
      "cell_type": "markdown",
      "source": [
        "# create a function called grader that takes marks and returns the total grade.\n",
        "the function should take three arguments i.e cat_1, cat_2 and exam\n",
        "the weight of cat_1 is 20%\n",
        "the weight of cat_2 is 30%\n",
        "the weight of the exam is 50%\n",
        "The formula is\n",
        "   (cat_1/100 * 20) + (cat_2/100 * 30) + (exam/100 * 50)"
      ],
      "metadata": {
        "id": "b3BO5Ulpd-Jp"
      }
    },
    {
      "cell_type": "code",
      "source": [
        "def grader(cat_1,cat_2,exam):\n",
        "  return (cat_1/100 * 20) + (cat_2/100 * 30) + (exam/100 * 50)"
      ],
      "metadata": {
        "id": "tAaT4oXaYbUZ"
      },
      "execution_count": 55,
      "outputs": []
    },
    {
      "cell_type": "code",
      "source": [
        "grader(50,60,70)"
      ],
      "metadata": {
        "colab": {
          "base_uri": "https://localhost:8080/",
          "height": 0
        },
        "id": "H6WAcXWveLb0",
        "outputId": "de44f4cd-cac4-4fd7-989b-d2717a61d433"
      },
      "execution_count": 56,
      "outputs": [
        {
          "output_type": "execute_result",
          "data": {
            "text/plain": [
              "63.0"
            ]
          },
          "metadata": {},
          "execution_count": 56
        }
      ]
    },
    {
      "cell_type": "code",
      "source": [
        "our_total_grade = grader(90,70,20)"
      ],
      "metadata": {
        "id": "c-fDaEF4eXK5"
      },
      "execution_count": 57,
      "outputs": []
    },
    {
      "cell_type": "code",
      "source": [
        "print(our_total_grade)"
      ],
      "metadata": {
        "colab": {
          "base_uri": "https://localhost:8080/",
          "height": 0
        },
        "id": "JBA_j-N3esM-",
        "outputId": "6d67d630-f35a-472b-a6ef-1882dcaef777"
      },
      "execution_count": 58,
      "outputs": [
        {
          "output_type": "stream",
          "name": "stdout",
          "text": [
            "49.0\n"
          ]
        }
      ]
    },
    {
      "cell_type": "code",
      "source": [
        "our_total_grade + 20"
      ],
      "metadata": {
        "colab": {
          "base_uri": "https://localhost:8080/",
          "height": 0
        },
        "id": "Xv6H95QFevkN",
        "outputId": "5bf597db-b01d-4013-d0bb-acf71af11006"
      },
      "execution_count": 59,
      "outputs": [
        {
          "output_type": "execute_result",
          "data": {
            "text/plain": [
              "69.0"
            ]
          },
          "metadata": {},
          "execution_count": 59
        }
      ]
    },
    {
      "cell_type": "code",
      "source": [
        "4/2"
      ],
      "metadata": {
        "colab": {
          "base_uri": "https://localhost:8080/",
          "height": 0
        },
        "id": "EVxRSfL2e2xV",
        "outputId": "b8d3fd88-c9d2-46e2-c8bc-42a4667047d5"
      },
      "execution_count": 60,
      "outputs": [
        {
          "output_type": "execute_result",
          "data": {
            "text/plain": [
              "2.0"
            ]
          },
          "metadata": {},
          "execution_count": 60
        }
      ]
    },
    {
      "cell_type": "code",
      "source": [
        "type(our_total_grade)"
      ],
      "metadata": {
        "colab": {
          "base_uri": "https://localhost:8080/",
          "height": 0
        },
        "id": "F909XOycgLi6",
        "outputId": "a4dac15f-bed0-43bc-cb55-a3c0aaa923e9"
      },
      "execution_count": 61,
      "outputs": [
        {
          "output_type": "execute_result",
          "data": {
            "text/plain": [
              "float"
            ]
          },
          "metadata": {},
          "execution_count": 61
        }
      ]
    },
    {
      "cell_type": "code",
      "source": [
        "int(our_total_grade)"
      ],
      "metadata": {
        "colab": {
          "base_uri": "https://localhost:8080/",
          "height": 0
        },
        "id": "DglnvJcbhj80",
        "outputId": "84495b66-f28e-42e1-d241-fba01b8a2e53"
      },
      "execution_count": 62,
      "outputs": [
        {
          "output_type": "execute_result",
          "data": {
            "text/plain": [
              "49"
            ]
          },
          "metadata": {},
          "execution_count": 62
        }
      ]
    },
    {
      "cell_type": "code",
      "source": [
        "str(our_total_grade)"
      ],
      "metadata": {
        "colab": {
          "base_uri": "https://localhost:8080/",
          "height": 35
        },
        "id": "IcMflpSOiA0G",
        "outputId": "b74ac77a-b27e-459b-8edf-03c1f8ef696e"
      },
      "execution_count": 63,
      "outputs": [
        {
          "output_type": "execute_result",
          "data": {
            "text/plain": [
              "'49.0'"
            ],
            "application/vnd.google.colaboratory.intrinsic+json": {
              "type": "string"
            }
          },
          "metadata": {},
          "execution_count": 63
        }
      ]
    },
    {
      "cell_type": "code",
      "source": [
        "age = input(\"What is your age?\")"
      ],
      "metadata": {
        "colab": {
          "base_uri": "https://localhost:8080/",
          "height": 0
        },
        "id": "XuHfKjoOiG8X",
        "outputId": "ce52067d-f717-44ef-a8f7-07d45456ac59"
      },
      "execution_count": 64,
      "outputs": [
        {
          "name": "stdout",
          "output_type": "stream",
          "text": [
            "What is your age?20\n"
          ]
        }
      ]
    },
    {
      "cell_type": "code",
      "source": [
        "print(age)"
      ],
      "metadata": {
        "colab": {
          "base_uri": "https://localhost:8080/",
          "height": 0
        },
        "id": "ZffY7Gj7jz4Q",
        "outputId": "f211c799-b5ea-4dcb-f5bb-745e13055b8c"
      },
      "execution_count": 65,
      "outputs": [
        {
          "output_type": "stream",
          "name": "stdout",
          "text": [
            "20\n"
          ]
        }
      ]
    },
    {
      "cell_type": "code",
      "source": [
        "type(age)"
      ],
      "metadata": {
        "colab": {
          "base_uri": "https://localhost:8080/",
          "height": 0
        },
        "id": "gFjkTAvnj8is",
        "outputId": "027a7e33-35aa-48b1-aed5-011b47c6c02c"
      },
      "execution_count": 66,
      "outputs": [
        {
          "output_type": "execute_result",
          "data": {
            "text/plain": [
              "str"
            ]
          },
          "metadata": {},
          "execution_count": 66
        }
      ]
    },
    {
      "cell_type": "code",
      "source": [
        "int(age)+5"
      ],
      "metadata": {
        "colab": {
          "base_uri": "https://localhost:8080/",
          "height": 0
        },
        "id": "arrOQTiBkE5w",
        "outputId": "b8bc189f-1daf-409b-b51f-c9a1275df7ed"
      },
      "execution_count": 67,
      "outputs": [
        {
          "output_type": "execute_result",
          "data": {
            "text/plain": [
              "25"
            ]
          },
          "metadata": {},
          "execution_count": 67
        }
      ]
    },
    {
      "cell_type": "code",
      "source": [
        "float(age)"
      ],
      "metadata": {
        "colab": {
          "base_uri": "https://localhost:8080/",
          "height": 0
        },
        "id": "knJv3UxokK-k",
        "outputId": "aa5fe4cb-f20c-4927-cdb9-11a289c06b6f"
      },
      "execution_count": 68,
      "outputs": [
        {
          "output_type": "execute_result",
          "data": {
            "text/plain": [
              "20.0"
            ]
          },
          "metadata": {},
          "execution_count": 68
        }
      ]
    },
    {
      "cell_type": "code",
      "source": [
        "age = float(age)"
      ],
      "metadata": {
        "id": "RtFcJ0K_kVo1"
      },
      "execution_count": 69,
      "outputs": []
    },
    {
      "cell_type": "code",
      "source": [
        "type(age)"
      ],
      "metadata": {
        "colab": {
          "base_uri": "https://localhost:8080/",
          "height": 0
        },
        "id": "r1fm2X9PkdWX",
        "outputId": "a98f5099-a11c-4834-f597-db362616d7e5"
      },
      "execution_count": 70,
      "outputs": [
        {
          "output_type": "execute_result",
          "data": {
            "text/plain": [
              "float"
            ]
          },
          "metadata": {},
          "execution_count": 70
        }
      ]
    },
    {
      "cell_type": "code",
      "source": [
        "age = int(age)"
      ],
      "metadata": {
        "id": "c1aaJlp6kewc"
      },
      "execution_count": 71,
      "outputs": []
    },
    {
      "cell_type": "code",
      "source": [
        "type(age)"
      ],
      "metadata": {
        "colab": {
          "base_uri": "https://localhost:8080/",
          "height": 0
        },
        "id": "lAwvwXr5kkSd",
        "outputId": "ca720059-24db-43a6-89a7-8f0f80c07400"
      },
      "execution_count": 72,
      "outputs": [
        {
          "output_type": "execute_result",
          "data": {
            "text/plain": [
              "int"
            ]
          },
          "metadata": {},
          "execution_count": 72
        }
      ]
    },
    {
      "cell_type": "code",
      "source": [
        "name = input(\"What is your name?\")"
      ],
      "metadata": {
        "colab": {
          "base_uri": "https://localhost:8080/",
          "height": 0
        },
        "id": "TaGpeBPiklsv",
        "outputId": "17a55a92-8266-43f8-b7de-796978828913"
      },
      "execution_count": 73,
      "outputs": [
        {
          "name": "stdout",
          "output_type": "stream",
          "text": [
            "What is your name?john\n"
          ]
        }
      ]
    },
    {
      "cell_type": "code",
      "source": [
        "print(name)"
      ],
      "metadata": {
        "colab": {
          "base_uri": "https://localhost:8080/",
          "height": 0
        },
        "id": "t5dnZLRLk0LO",
        "outputId": "cdcdec7c-c06f-4824-d7dd-cb56d4699e13"
      },
      "execution_count": 74,
      "outputs": [
        {
          "output_type": "stream",
          "name": "stdout",
          "text": [
            "john\n"
          ]
        }
      ]
    },
    {
      "cell_type": "code",
      "source": [
        "temp = input(\"What is the temperature outside?\")"
      ],
      "metadata": {
        "colab": {
          "base_uri": "https://localhost:8080/",
          "height": 0
        },
        "id": "beFziPTSk28P",
        "outputId": "e8a5076e-be2e-47bb-847b-bce54e9d5061"
      },
      "execution_count": 75,
      "outputs": [
        {
          "name": "stdout",
          "output_type": "stream",
          "text": [
            "What is the temperature outside?39.5\n"
          ]
        }
      ]
    },
    {
      "cell_type": "code",
      "source": [
        "type(temp)"
      ],
      "metadata": {
        "colab": {
          "base_uri": "https://localhost:8080/",
          "height": 0
        },
        "id": "MUTQAkUslJAZ",
        "outputId": "4de80038-8bf5-4fb6-e260-d065c62e05a0"
      },
      "execution_count": 76,
      "outputs": [
        {
          "output_type": "execute_result",
          "data": {
            "text/plain": [
              "str"
            ]
          },
          "metadata": {},
          "execution_count": 76
        }
      ]
    },
    {
      "cell_type": "code",
      "source": [
        "temp = float(temp)"
      ],
      "metadata": {
        "id": "PZYeuLmplMnl"
      },
      "execution_count": 78,
      "outputs": []
    },
    {
      "cell_type": "code",
      "source": [
        "type(temp)"
      ],
      "metadata": {
        "colab": {
          "base_uri": "https://localhost:8080/",
          "height": 0
        },
        "id": "chY-77yxlToP",
        "outputId": "a418e681-d046-4d15-fee8-cd0eec58aba7"
      },
      "execution_count": 79,
      "outputs": [
        {
          "output_type": "execute_result",
          "data": {
            "text/plain": [
              "float"
            ]
          },
          "metadata": {},
          "execution_count": 79
        }
      ]
    },
    {
      "cell_type": "code",
      "source": [
        "temp = int(input(\"What is the temp outside?\"))"
      ],
      "metadata": {
        "colab": {
          "base_uri": "https://localhost:8080/",
          "height": 0
        },
        "id": "rf0qOos3lU69",
        "outputId": "4babbf2c-57f2-4654-e6b3-d6380be81907"
      },
      "execution_count": 80,
      "outputs": [
        {
          "name": "stdout",
          "output_type": "stream",
          "text": [
            "What is the temp outside?30\n"
          ]
        }
      ]
    },
    {
      "cell_type": "code",
      "source": [
        "type(temp)"
      ],
      "metadata": {
        "colab": {
          "base_uri": "https://localhost:8080/",
          "height": 0
        },
        "id": "4k2X9ZGOlpvM",
        "outputId": "84425ae3-7915-41e4-ff61-011200c9d0a1"
      },
      "execution_count": 81,
      "outputs": [
        {
          "output_type": "execute_result",
          "data": {
            "text/plain": [
              "int"
            ]
          },
          "metadata": {},
          "execution_count": 81
        }
      ]
    },
    {
      "cell_type": "markdown",
      "source": [
        "# modify your grader to prompt user for their\n",
        "# marks instead of taking arguments"
      ],
      "metadata": {
        "id": "jGle40MimTGc"
      }
    },
    {
      "cell_type": "code",
      "source": [
        "def add(a,b):\n",
        "  return a+b\n",
        "def sub(a,b):\n",
        "  return a-b\n",
        "def mul(a,b):\n",
        "  return a*b\n",
        "def div(a,b):\n",
        "  return a/b"
      ],
      "metadata": {
        "id": "hIvNh0DzNKcO"
      },
      "execution_count": 82,
      "outputs": []
    },
    {
      "cell_type": "code",
      "source": [
        "first_val = int(input(\"Enter your first value\"))\n",
        "second_val = int(input(\"Enter another value\"))\n",
        "print(add(first_val,second_val))\n",
        "print(sub(first_val,second_val))\n",
        "print(mul(first_val,second_val))\n",
        "print(div(first_val,second_val))"
      ],
      "metadata": {
        "colab": {
          "base_uri": "https://localhost:8080/",
          "height": 0
        },
        "id": "LV2gFNEfNhKb",
        "outputId": "a15699ac-45bb-4c59-c882-690547d890d9"
      },
      "execution_count": 83,
      "outputs": [
        {
          "output_type": "stream",
          "name": "stdout",
          "text": [
            "Enter your first value10\n",
            "Enter another value5\n",
            "15\n",
            "5\n",
            "50\n",
            "2.0\n"
          ]
        }
      ]
    },
    {
      "cell_type": "code",
      "source": [
        "name = \"John \""
      ],
      "metadata": {
        "id": "1ciw3KK1ltUH"
      },
      "execution_count": 84,
      "outputs": []
    },
    {
      "cell_type": "code",
      "source": [
        "name.upper()"
      ],
      "metadata": {
        "id": "O9DPMb01mP7l",
        "colab": {
          "base_uri": "https://localhost:8080/",
          "height": 35
        },
        "outputId": "8282d825-4dbd-4ac3-f663-61f579d72eab"
      },
      "execution_count": 85,
      "outputs": [
        {
          "output_type": "execute_result",
          "data": {
            "text/plain": [
              "'JOHN '"
            ],
            "application/vnd.google.colaboratory.intrinsic+json": {
              "type": "string"
            }
          },
          "metadata": {},
          "execution_count": 85
        }
      ]
    },
    {
      "cell_type": "code",
      "source": [
        "name .lower()"
      ],
      "metadata": {
        "colab": {
          "base_uri": "https://localhost:8080/",
          "height": 35
        },
        "id": "d4yNWe0I65A6",
        "outputId": "640eba18-0e34-4e02-ca71-cbfcad54ab5a"
      },
      "execution_count": 86,
      "outputs": [
        {
          "output_type": "execute_result",
          "data": {
            "text/plain": [
              "'john '"
            ],
            "application/vnd.google.colaboratory.intrinsic+json": {
              "type": "string"
            }
          },
          "metadata": {},
          "execution_count": 86
        }
      ]
    },
    {
      "cell_type": "code",
      "source": [
        "name.strip()"
      ],
      "metadata": {
        "colab": {
          "base_uri": "https://localhost:8080/",
          "height": 35
        },
        "id": "fxi0ZAcW6-Qs",
        "outputId": "dffc07af-c81a-4c8b-97f8-540ef0f89c5a"
      },
      "execution_count": 87,
      "outputs": [
        {
          "output_type": "execute_result",
          "data": {
            "text/plain": [
              "'John'"
            ],
            "application/vnd.google.colaboratory.intrinsic+json": {
              "type": "string"
            }
          },
          "metadata": {},
          "execution_count": 87
        }
      ]
    },
    {
      "cell_type": "code",
      "source": [
        "len(name)"
      ],
      "metadata": {
        "colab": {
          "base_uri": "https://localhost:8080/",
          "height": 0
        },
        "id": "cfQ0T4MS6_zW",
        "outputId": "d9c5c0e2-e996-4c46-acbb-c6e23c644767"
      },
      "execution_count": 88,
      "outputs": [
        {
          "output_type": "execute_result",
          "data": {
            "text/plain": [
              "5"
            ]
          },
          "metadata": {},
          "execution_count": 88
        }
      ]
    },
    {
      "cell_type": "code",
      "source": [
        "second_name = \"Rarui\""
      ],
      "metadata": {
        "id": "OEhxt--D7DSv"
      },
      "execution_count": 89,
      "outputs": []
    },
    {
      "cell_type": "code",
      "source": [
        "name+second_name"
      ],
      "metadata": {
        "colab": {
          "base_uri": "https://localhost:8080/",
          "height": 35
        },
        "id": "c4RfR1wO7GiI",
        "outputId": "b6146bf4-c49b-4e45-c654-9da41133f84b"
      },
      "execution_count": 92,
      "outputs": [
        {
          "output_type": "execute_result",
          "data": {
            "text/plain": [
              "'John Rarui'"
            ],
            "application/vnd.google.colaboratory.intrinsic+json": {
              "type": "string"
            }
          },
          "metadata": {},
          "execution_count": 92
        }
      ]
    },
    {
      "cell_type": "code",
      "source": [
        "\"my name is {} {} \".format(name,second_name)"
      ],
      "metadata": {
        "colab": {
          "base_uri": "https://localhost:8080/",
          "height": 35
        },
        "id": "Iq2SDzhg7Ila",
        "outputId": "670d7ac7-a587-4463-e339-d60c752fa3eb"
      },
      "execution_count": 93,
      "outputs": [
        {
          "output_type": "execute_result",
          "data": {
            "text/plain": [
              "'my name is John  Rarui '"
            ],
            "application/vnd.google.colaboratory.intrinsic+json": {
              "type": "string"
            }
          },
          "metadata": {},
          "execution_count": 93
        }
      ]
    },
    {
      "cell_type": "code",
      "source": [
        "\"my name is {1} {0} \".format(name,second_name)"
      ],
      "metadata": {
        "colab": {
          "base_uri": "https://localhost:8080/",
          "height": 35
        },
        "id": "Bjlryv0r7LOm",
        "outputId": "54d875f9-2473-4ca8-998e-f080e4f366e4"
      },
      "execution_count": 94,
      "outputs": [
        {
          "output_type": "execute_result",
          "data": {
            "text/plain": [
              "'my name is Rarui John  '"
            ],
            "application/vnd.google.colaboratory.intrinsic+json": {
              "type": "string"
            }
          },
          "metadata": {},
          "execution_count": 94
        }
      ]
    },
    {
      "cell_type": "code",
      "source": [
        "\"w\" in name"
      ],
      "metadata": {
        "colab": {
          "base_uri": "https://localhost:8080/",
          "height": 0
        },
        "id": "J76ZDtPW7ett",
        "outputId": "f3250cb8-eadb-499a-dd50-0fdbe7196759"
      },
      "execution_count": 95,
      "outputs": [
        {
          "output_type": "execute_result",
          "data": {
            "text/plain": [
              "False"
            ]
          },
          "metadata": {},
          "execution_count": 95
        }
      ]
    },
    {
      "cell_type": "code",
      "source": [
        "students = \"Mary,Edward,Mark,Winfred,Elsa\""
      ],
      "metadata": {
        "id": "6K7cNhko7nFw"
      },
      "execution_count": 96,
      "outputs": []
    },
    {
      "cell_type": "code",
      "source": [
        "name.split(\",\")"
      ],
      "metadata": {
        "colab": {
          "base_uri": "https://localhost:8080/",
          "height": 0
        },
        "id": "DFyXL41w7p7M",
        "outputId": "aa8d08fb-e49c-4284-96b8-c28a1957dde2"
      },
      "execution_count": 97,
      "outputs": [
        {
          "output_type": "execute_result",
          "data": {
            "text/plain": [
              "['John ']"
            ]
          },
          "metadata": {},
          "execution_count": 97
        }
      ]
    },
    {
      "cell_type": "markdown",
      "source": [
        "# Math Library"
      ],
      "metadata": {
        "id": "x6UNXif0RbFE"
      }
    },
    {
      "cell_type": "code",
      "source": [
        "import math"
      ],
      "metadata": {
        "id": "3CytHn3D79Yg"
      },
      "execution_count": 98,
      "outputs": []
    },
    {
      "cell_type": "code",
      "source": [
        "math.sqrt(24)"
      ],
      "metadata": {
        "colab": {
          "base_uri": "https://localhost:8080/",
          "height": 0
        },
        "id": "OgDbiMT0Rljp",
        "outputId": "5632db40-4b4e-45ca-e26e-845f3591df9e"
      },
      "execution_count": 99,
      "outputs": [
        {
          "output_type": "execute_result",
          "data": {
            "text/plain": [
              "4.898979485566356"
            ]
          },
          "metadata": {},
          "execution_count": 99
        }
      ]
    },
    {
      "cell_type": "code",
      "source": [
        "first_name = \"John\"\n",
        "second_name = \"Doe\"\n",
        "first_name+\" \"+second_name"
      ],
      "metadata": {
        "colab": {
          "base_uri": "https://localhost:8080/",
          "height": 35
        },
        "id": "4dQdi2qKRolB",
        "outputId": "565774fc-a8e3-4f52-d1b7-fc7b1c66373d"
      },
      "execution_count": 100,
      "outputs": [
        {
          "output_type": "execute_result",
          "data": {
            "text/plain": [
              "'John Doe'"
            ],
            "application/vnd.google.colaboratory.intrinsic+json": {
              "type": "string"
            }
          },
          "metadata": {},
          "execution_count": 100
        }
      ]
    },
    {
      "cell_type": "code",
      "source": [
        "first_name*2"
      ],
      "metadata": {
        "colab": {
          "base_uri": "https://localhost:8080/",
          "height": 35
        },
        "id": "dWoF23STTMef",
        "outputId": "9a4d82cd-5612-498b-d939-86d5a45cc77e"
      },
      "execution_count": 101,
      "outputs": [
        {
          "output_type": "execute_result",
          "data": {
            "text/plain": [
              "'JohnJohn'"
            ],
            "application/vnd.google.colaboratory.intrinsic+json": {
              "type": "string"
            }
          },
          "metadata": {},
          "execution_count": 101
        }
      ]
    },
    {
      "cell_type": "markdown",
      "source": [
        "Operations on strings"
      ],
      "metadata": {
        "id": "hN0h9oSUT2Ym"
      }
    },
    {
      "cell_type": "code",
      "source": [
        "# this code returns the length of a string\n",
        "len(first_name)"
      ],
      "metadata": {
        "colab": {
          "base_uri": "https://localhost:8080/",
          "height": 0
        },
        "id": "ULnsM65hTaga",
        "outputId": "ff9dd8a7-a890-4176-e76e-c3843c3600d8"
      },
      "execution_count": 102,
      "outputs": [
        {
          "output_type": "execute_result",
          "data": {
            "text/plain": [
              "4"
            ]
          },
          "metadata": {},
          "execution_count": 102
        }
      ]
    },
    {
      "cell_type": "code",
      "source": [
        "first_name.upper()"
      ],
      "metadata": {
        "colab": {
          "base_uri": "https://localhost:8080/",
          "height": 35
        },
        "id": "KbNxDnfnUGaW",
        "outputId": "23958c21-e58f-4471-8e71-457974d70b48"
      },
      "execution_count": 105,
      "outputs": [
        {
          "output_type": "execute_result",
          "data": {
            "text/plain": [
              "'JOHN'"
            ],
            "application/vnd.google.colaboratory.intrinsic+json": {
              "type": "string"
            }
          },
          "metadata": {},
          "execution_count": 105
        }
      ]
    },
    {
      "cell_type": "code",
      "source": [
        "f_n = first_name.lower()"
      ],
      "metadata": {
        "id": "xBeYqGGDVt54"
      },
      "execution_count": 106,
      "outputs": []
    },
    {
      "cell_type": "code",
      "source": [
        "print(f_n)"
      ],
      "metadata": {
        "colab": {
          "base_uri": "https://localhost:8080/",
          "height": 0
        },
        "id": "jkgQ0biZV_ta",
        "outputId": "c2a85f38-0801-4f30-bc21-9071861fcb41"
      },
      "execution_count": 107,
      "outputs": [
        {
          "output_type": "stream",
          "name": "stdout",
          "text": [
            "john\n"
          ]
        }
      ]
    },
    {
      "cell_type": "code",
      "source": [
        "national_id = \"  3638 5023 \"\n",
        "national_id.strip()"
      ],
      "metadata": {
        "colab": {
          "base_uri": "https://localhost:8080/",
          "height": 35
        },
        "id": "fYpO0-L1WB7S",
        "outputId": "c4ca4eda-b3fb-48f5-9365-c2301286d669"
      },
      "execution_count": 108,
      "outputs": [
        {
          "output_type": "execute_result",
          "data": {
            "text/plain": [
              "'3638 5023'"
            ],
            "application/vnd.google.colaboratory.intrinsic+json": {
              "type": "string"
            }
          },
          "metadata": {},
          "execution_count": 108
        }
      ]
    },
    {
      "cell_type": "code",
      "source": [
        "national_id.replace(\" \",\"\")"
      ],
      "metadata": {
        "colab": {
          "base_uri": "https://localhost:8080/",
          "height": 35
        },
        "id": "GodDAZtZWmlz",
        "outputId": "15c8bee8-e7fb-44bb-e40b-8c07fb42fb39"
      },
      "execution_count": 109,
      "outputs": [
        {
          "output_type": "execute_result",
          "data": {
            "text/plain": [
              "'36385023'"
            ],
            "application/vnd.google.colaboratory.intrinsic+json": {
              "type": "string"
            }
          },
          "metadata": {},
          "execution_count": 109
        }
      ]
    },
    {
      "cell_type": "code",
      "source": [
        "national_id.replace(\"2\",\"7\")"
      ],
      "metadata": {
        "colab": {
          "base_uri": "https://localhost:8080/",
          "height": 35
        },
        "id": "HHp0zldjW1kB",
        "outputId": "acfd9f6e-355a-49b6-e6fe-9a35a135b7ed"
      },
      "execution_count": 111,
      "outputs": [
        {
          "output_type": "execute_result",
          "data": {
            "text/plain": [
              "'  3638 5073 '"
            ],
            "application/vnd.google.colaboratory.intrinsic+json": {
              "type": "string"
            }
          },
          "metadata": {},
          "execution_count": 111
        }
      ]
    },
    {
      "cell_type": "code",
      "source": [
        "my_new_id = national_id.strip().replace(\" \",\"\").replace(\"3\",\"4\")"
      ],
      "metadata": {
        "id": "XwMn_k7NXfml"
      },
      "execution_count": 112,
      "outputs": []
    },
    {
      "cell_type": "code",
      "source": [
        "print(my_new_id)"
      ],
      "metadata": {
        "colab": {
          "base_uri": "https://localhost:8080/",
          "height": 0
        },
        "id": "1QBu-LRHXX3Q",
        "outputId": "42028680-bf50-4c25-9d79-628ea7a6888f"
      },
      "execution_count": 113,
      "outputs": [
        {
          "output_type": "stream",
          "name": "stdout",
          "text": [
            "46485024\n"
          ]
        }
      ]
    },
    {
      "cell_type": "code",
      "source": [
        "my_new_id.isnumeric()"
      ],
      "metadata": {
        "colab": {
          "base_uri": "https://localhost:8080/",
          "height": 0
        },
        "id": "-_NxYc7YX2hY",
        "outputId": "98e7da8a-8b68-4381-ccb9-5b69e2acd080"
      },
      "execution_count": 114,
      "outputs": [
        {
          "output_type": "execute_result",
          "data": {
            "text/plain": [
              "True"
            ]
          },
          "metadata": {},
          "execution_count": 114
        }
      ]
    },
    {
      "cell_type": "code",
      "source": [
        "national_id.isnumeric()"
      ],
      "metadata": {
        "colab": {
          "base_uri": "https://localhost:8080/",
          "height": 0
        },
        "id": "Zw9SOtDpf1-q",
        "outputId": "60dcf5da-00aa-4340-883a-e87899ce60ed"
      },
      "execution_count": 115,
      "outputs": [
        {
          "output_type": "execute_result",
          "data": {
            "text/plain": [
              "False"
            ]
          },
          "metadata": {},
          "execution_count": 115
        }
      ]
    },
    {
      "cell_type": "code",
      "source": [
        "cars = \"toyota,benz,bmw\"\n",
        "cars.split(\",\")"
      ],
      "metadata": {
        "colab": {
          "base_uri": "https://localhost:8080/",
          "height": 0
        },
        "id": "ymMv0B7ShASd",
        "outputId": "d91428d9-b9e2-4ff2-c3af-830c1129620d"
      },
      "execution_count": 116,
      "outputs": [
        {
          "output_type": "execute_result",
          "data": {
            "text/plain": [
              "['toyota', 'benz', 'bmw']"
            ]
          },
          "metadata": {},
          "execution_count": 116
        }
      ]
    },
    {
      "cell_type": "code",
      "source": [
        "True"
      ],
      "metadata": {
        "colab": {
          "base_uri": "https://localhost:8080/",
          "height": 0
        },
        "id": "8vBgpHTzh8tL",
        "outputId": "2f0cd9e3-d15d-4224-8f44-1eb5c808c35e"
      },
      "execution_count": 117,
      "outputs": [
        {
          "output_type": "execute_result",
          "data": {
            "text/plain": [
              "True"
            ]
          },
          "metadata": {},
          "execution_count": 117
        }
      ]
    },
    {
      "cell_type": "code",
      "source": [
        "is_cloudy = True"
      ],
      "metadata": {
        "id": "o11alKQKinVU"
      },
      "execution_count": 118,
      "outputs": []
    },
    {
      "cell_type": "code",
      "source": [
        "type(is_cloudy)"
      ],
      "metadata": {
        "colab": {
          "base_uri": "https://localhost:8080/",
          "height": 0
        },
        "id": "rGdkPQ1xizAs",
        "outputId": "4c664010-2341-4c0f-dfcd-6aa5b678acd3"
      },
      "execution_count": 119,
      "outputs": [
        {
          "output_type": "execute_result",
          "data": {
            "text/plain": [
              "bool"
            ]
          },
          "metadata": {},
          "execution_count": 119
        }
      ]
    },
    {
      "cell_type": "code",
      "source": [
        "a = 15\n",
        "b = 5\n",
        "a == b"
      ],
      "metadata": {
        "colab": {
          "base_uri": "https://localhost:8080/",
          "height": 0
        },
        "id": "LWM8OaPZi2P9",
        "outputId": "13d4cfde-1aab-4305-8673-fd654eb59767"
      },
      "execution_count": 120,
      "outputs": [
        {
          "output_type": "execute_result",
          "data": {
            "text/plain": [
              "False"
            ]
          },
          "metadata": {},
          "execution_count": 120
        }
      ]
    },
    {
      "cell_type": "code",
      "source": [
        "c = a==b\n",
        "print(c)"
      ],
      "metadata": {
        "colab": {
          "base_uri": "https://localhost:8080/",
          "height": 0
        },
        "id": "8xvN1bRLjZXz",
        "outputId": "ceb5002b-0109-49f5-8b22-92bf11786468"
      },
      "execution_count": 121,
      "outputs": [
        {
          "output_type": "stream",
          "name": "stdout",
          "text": [
            "False\n"
          ]
        }
      ]
    },
    {
      "cell_type": "code",
      "source": [
        "print(a>b)\n",
        "print(a>=b)\n",
        "print(a<b)\n",
        "print(a<=b)\n",
        "print(not a==b)"
      ],
      "metadata": {
        "colab": {
          "base_uri": "https://localhost:8080/",
          "height": 0
        },
        "id": "DWg9BJsPjgsN",
        "outputId": "16101b2a-04f3-43ca-a312-be4f2132e8c8"
      },
      "execution_count": 122,
      "outputs": [
        {
          "output_type": "stream",
          "name": "stdout",
          "text": [
            "True\n",
            "True\n",
            "False\n",
            "False\n",
            "True\n"
          ]
        }
      ]
    },
    {
      "cell_type": "code",
      "source": [
        "a = 3\n",
        "b = 3\n",
        "c = 4\n",
        "\n",
        "a==b\n",
        "b==c"
      ],
      "metadata": {
        "colab": {
          "base_uri": "https://localhost:8080/",
          "height": 0
        },
        "id": "CrByXe-3j-os",
        "outputId": "7928bfa7-0e4b-4f71-85bd-51aef37c876e"
      },
      "execution_count": 123,
      "outputs": [
        {
          "output_type": "execute_result",
          "data": {
            "text/plain": [
              "False"
            ]
          },
          "metadata": {},
          "execution_count": 123
        }
      ]
    },
    {
      "cell_type": "code",
      "source": [
        "(a == b) and (b==c)"
      ],
      "metadata": {
        "colab": {
          "base_uri": "https://localhost:8080/",
          "height": 0
        },
        "id": "BQOGHFvLl8rw",
        "outputId": "3c3dc732-e2aa-4433-8ced-abe65c6daccb"
      },
      "execution_count": 124,
      "outputs": [
        {
          "output_type": "execute_result",
          "data": {
            "text/plain": [
              "False"
            ]
          },
          "metadata": {},
          "execution_count": 124
        }
      ]
    },
    {
      "cell_type": "code",
      "source": [
        "(a == b) or (b==c)"
      ],
      "metadata": {
        "colab": {
          "base_uri": "https://localhost:8080/",
          "height": 0
        },
        "id": "GwiYJ3-CmBhH",
        "outputId": "2fd96189-0ef5-430e-aa20-d4580d71b83b"
      },
      "execution_count": 125,
      "outputs": [
        {
          "output_type": "execute_result",
          "data": {
            "text/plain": [
              "True"
            ]
          },
          "metadata": {},
          "execution_count": 125
        }
      ]
    },
    {
      "cell_type": "code",
      "source": [
        "limit_weight = 20\n",
        "truck_weight = int(input(\"What is your truck weight\"))\n",
        "if truck_weight>limit_weight:\n",
        "  print(\"Pay the fine\")\n",
        "else:\n",
        "  print(\"Dont pay the fine\")"
      ],
      "metadata": {
        "colab": {
          "base_uri": "https://localhost:8080/",
          "height": 0
        },
        "id": "rE7WTfKamL1K",
        "outputId": "cbcd3814-6a8b-4b0b-dd6b-de17232a784b"
      },
      "execution_count": 126,
      "outputs": [
        {
          "output_type": "stream",
          "name": "stdout",
          "text": [
            "What is your truck weight50\n",
            "Pay the fine\n"
          ]
        }
      ]
    },
    {
      "cell_type": "code",
      "source": [
        "is_raining = True\n",
        "if is_raining:\n",
        "  print(\"Buy an umbrella\")\n",
        "else:\n",
        "  print(\"Dont buy an umbrella\")"
      ],
      "metadata": {
        "colab": {
          "base_uri": "https://localhost:8080/",
          "height": 0
        },
        "id": "cSTrgFedonPr",
        "outputId": "885031f3-2f68-4381-f6eb-8aee8cc0a493"
      },
      "execution_count": 127,
      "outputs": [
        {
          "output_type": "stream",
          "name": "stdout",
          "text": [
            "Buy an umbrella\n"
          ]
        }
      ]
    },
    {
      "cell_type": "code",
      "source": [
        "num_of_pass = int(input(\"How many passengers are there?\"))\n",
        "if(num_of_pass==1):\n",
        "  print(\"Use uber boda\")\n",
        "elif(num_of_pass>1 and num_of_pass<=4):\n",
        "  print(\"Use uber x\")\n",
        "elif(num_of_pass>4 and num_of_pass<7):\n",
        "  print(\"Use uber xl\")\n",
        "else:\n",
        "  print(\"No uber class available\")"
      ],
      "metadata": {
        "colab": {
          "base_uri": "https://localhost:8080/",
          "height": 0
        },
        "id": "DzhSWD4fpOYM",
        "outputId": "190d057e-8271-4c44-e25f-b2fb417480cd"
      },
      "execution_count": 128,
      "outputs": [
        {
          "output_type": "stream",
          "name": "stdout",
          "text": [
            "How many passengers are there?4\n",
            "Use uber x\n"
          ]
        }
      ]
    },
    {
      "cell_type": "code",
      "source": [],
      "metadata": {
        "id": "NN3qRtnjsBWZ"
      },
      "execution_count": 128,
      "outputs": []
    },
    {
      "cell_type": "markdown",
      "source": [
        "# Task: Create a scientific calculator.\n",
        "The calculator should ask a user for the operation they want then prompt them for values(max of 2) and return the result\n",
        " - 2 logarithmic operations\n",
        " - 3 trig operations\n",
        " - all 4 basic operations(+,-,*,/)\n",
        "Example of the flow:\n",
        "- What operation do you want to do? sin\n",
        "- Provide your value in radians. 45\n",
        "- 90\n",
        "\n",
        "in this task you will use:\n",
        "- functions\n",
        "- math\n",
        "- boolean expressions\n",
        "- if--elif--else\n",
        "- isnumeric()"
      ],
      "metadata": {
        "id": "WEjnToBwtJLs"
      }
    },
    {
      "cell_type": "code",
      "source": [
        "#Lists\n",
        "cars = [\"merc\",\"bmw\",\"toyota\",\"rr\",\"citreon\",\"hyundai\"]"
      ],
      "metadata": {
        "id": "Lxf5zc02teYf"
      },
      "execution_count": 178,
      "outputs": []
    },
    {
      "cell_type": "code",
      "source": [
        "cars[::-1]"
      ],
      "metadata": {
        "colab": {
          "base_uri": "https://localhost:8080/",
          "height": 0
        },
        "id": "7ZcTHmkw4TYt",
        "outputId": "994618a4-04fa-4642-e9db-db423a24540e"
      },
      "execution_count": 191,
      "outputs": [
        {
          "output_type": "execute_result",
          "data": {
            "text/plain": [
              "['hyundai', 'citreon', 'rr', 'toyota', 'bmw', 'merc']"
            ]
          },
          "metadata": {},
          "execution_count": 191
        }
      ]
    },
    {
      "cell_type": "code",
      "source": [
        "cars[4:]"
      ],
      "metadata": {
        "colab": {
          "base_uri": "https://localhost:8080/",
          "height": 0
        },
        "id": "kohecOUn3H73",
        "outputId": "953708cd-e8bc-406a-e6d6-e9827cc92630"
      },
      "execution_count": 184,
      "outputs": [
        {
          "output_type": "execute_result",
          "data": {
            "text/plain": [
              "['citreon', 'hyundai']"
            ]
          },
          "metadata": {},
          "execution_count": 184
        }
      ]
    },
    {
      "cell_type": "code",
      "source": [
        "cars[0:4]"
      ],
      "metadata": {
        "colab": {
          "base_uri": "https://localhost:8080/",
          "height": 0
        },
        "id": "eGIEcuiC3cJJ",
        "outputId": "6dccc640-e668-40c9-fefc-fe4f9b3f3195"
      },
      "execution_count": 186,
      "outputs": [
        {
          "output_type": "execute_result",
          "data": {
            "text/plain": [
              "['merc', 'bmw', 'toyota', 'rr']"
            ]
          },
          "metadata": {},
          "execution_count": 186
        }
      ]
    },
    {
      "cell_type": "code",
      "source": [
        "cars[:4]"
      ],
      "metadata": {
        "colab": {
          "base_uri": "https://localhost:8080/",
          "height": 0
        },
        "id": "ePxJ1s1Q3p-c",
        "outputId": "8b3eaf18-7233-4f1b-feab-76133677dc8e"
      },
      "execution_count": 187,
      "outputs": [
        {
          "output_type": "execute_result",
          "data": {
            "text/plain": [
              "['merc', 'bmw', 'toyota', 'rr']"
            ]
          },
          "metadata": {},
          "execution_count": 187
        }
      ]
    },
    {
      "cell_type": "code",
      "source": [
        "# convert from string\n",
        "student_names = \"John,Mary,Edward\"\n",
        "students = student_names.split(\",\")\n",
        "print(students)"
      ],
      "metadata": {
        "colab": {
          "base_uri": "https://localhost:8080/",
          "height": 0
        },
        "id": "ybjDf0JGDlrc",
        "outputId": "ffaa7746-0ef1-491e-9841-7a05ccd115bc"
      },
      "execution_count": 179,
      "outputs": [
        {
          "output_type": "stream",
          "name": "stdout",
          "text": [
            "['John', 'Mary', 'Edward']\n"
          ]
        }
      ]
    },
    {
      "cell_type": "code",
      "source": [
        "print(cars)"
      ],
      "metadata": {
        "colab": {
          "base_uri": "https://localhost:8080/",
          "height": 0
        },
        "id": "ZammgU1kDGt9",
        "outputId": "49a6347c-6ff2-4260-b8eb-4cb25f1c519a"
      },
      "execution_count": 180,
      "outputs": [
        {
          "output_type": "stream",
          "name": "stdout",
          "text": [
            "['merc', 'bmw', 'toyota', 'rr', 'citreon', 'hyundai']\n"
          ]
        }
      ]
    },
    {
      "cell_type": "code",
      "source": [
        "#Length of a list\n",
        "len(cars)-1"
      ],
      "metadata": {
        "colab": {
          "base_uri": "https://localhost:8080/",
          "height": 0
        },
        "id": "_9u9m4KPDH_T",
        "outputId": "1c3fbee8-9a73-4a85-fbba-c252300377a8"
      },
      "execution_count": 181,
      "outputs": [
        {
          "output_type": "execute_result",
          "data": {
            "text/plain": [
              "5"
            ]
          },
          "metadata": {},
          "execution_count": 181
        }
      ]
    },
    {
      "cell_type": "code",
      "source": [
        "cars[len(cars)-1]"
      ],
      "metadata": {
        "colab": {
          "base_uri": "https://localhost:8080/",
          "height": 35
        },
        "id": "eGAP5TMJ0xa3",
        "outputId": "fe76fa43-f49a-44f0-8385-39a7e6b3ba97"
      },
      "execution_count": 182,
      "outputs": [
        {
          "output_type": "execute_result",
          "data": {
            "text/plain": [
              "'hyundai'"
            ],
            "application/vnd.google.colaboratory.intrinsic+json": {
              "type": "string"
            }
          },
          "metadata": {},
          "execution_count": 182
        }
      ]
    },
    {
      "cell_type": "code",
      "source": [
        "cars[-1]"
      ],
      "metadata": {
        "colab": {
          "base_uri": "https://localhost:8080/",
          "height": 35
        },
        "id": "F40rP9TS1BHB",
        "outputId": "f3913e91-95d8-4e4d-acab-10cbe7575045"
      },
      "execution_count": 183,
      "outputs": [
        {
          "output_type": "execute_result",
          "data": {
            "text/plain": [
              "'hyundai'"
            ],
            "application/vnd.google.colaboratory.intrinsic+json": {
              "type": "string"
            }
          },
          "metadata": {},
          "execution_count": 183
        }
      ]
    },
    {
      "cell_type": "code",
      "source": [
        "#sccessing values in the list using indices\n",
        "# accessing one value\n",
        "cars[0]"
      ],
      "metadata": {
        "colab": {
          "base_uri": "https://localhost:8080/",
          "height": 35
        },
        "id": "B4gVnk52DLCJ",
        "outputId": "cbeca61b-b218-48b5-9770-81d7c780bd54"
      },
      "execution_count": 133,
      "outputs": [
        {
          "output_type": "execute_result",
          "data": {
            "text/plain": [
              "'merc'"
            ],
            "application/vnd.google.colaboratory.intrinsic+json": {
              "type": "string"
            }
          },
          "metadata": {},
          "execution_count": 133
        }
      ]
    },
    {
      "cell_type": "code",
      "source": [
        "cars.index(\"bmw\")"
      ],
      "metadata": {
        "colab": {
          "base_uri": "https://localhost:8080/",
          "height": 0
        },
        "id": "E-Zv8QkvG4XT",
        "outputId": "35c589c3-2b16-42d7-b368-227d7a7c3ba0"
      },
      "execution_count": 134,
      "outputs": [
        {
          "output_type": "execute_result",
          "data": {
            "text/plain": [
              "1"
            ]
          },
          "metadata": {},
          "execution_count": 134
        }
      ]
    },
    {
      "cell_type": "code",
      "source": [
        "cars[-1]"
      ],
      "metadata": {
        "colab": {
          "base_uri": "https://localhost:8080/",
          "height": 35
        },
        "id": "09dT_Uk3EO3V",
        "outputId": "53f65efe-cf3d-43fd-bff6-063ec0cf5cca"
      },
      "execution_count": 135,
      "outputs": [
        {
          "output_type": "execute_result",
          "data": {
            "text/plain": [
              "'hyundai'"
            ],
            "application/vnd.google.colaboratory.intrinsic+json": {
              "type": "string"
            }
          },
          "metadata": {},
          "execution_count": 135
        }
      ]
    },
    {
      "cell_type": "code",
      "source": [
        "#accessing a range of values(slicing)\n",
        "# it omits the last value\n",
        "cars[0:2]"
      ],
      "metadata": {
        "colab": {
          "base_uri": "https://localhost:8080/",
          "height": 0
        },
        "id": "RfJYjwOrDXWu",
        "outputId": "d2c3daaf-b991-4f8e-bf46-9c96d32d2842"
      },
      "execution_count": 136,
      "outputs": [
        {
          "output_type": "execute_result",
          "data": {
            "text/plain": [
              "['merc', 'bmw']"
            ]
          },
          "metadata": {},
          "execution_count": 136
        }
      ]
    },
    {
      "cell_type": "code",
      "source": [
        "# accessing alternate values\n",
        "cars[0:6:2]"
      ],
      "metadata": {
        "colab": {
          "base_uri": "https://localhost:8080/",
          "height": 0
        },
        "id": "ccKdFfcfDd3m",
        "outputId": "68494b98-6e1f-4be6-99dd-d3428bff480f"
      },
      "execution_count": 137,
      "outputs": [
        {
          "output_type": "execute_result",
          "data": {
            "text/plain": [
              "['merc', 'toyota', 'citreon']"
            ]
          },
          "metadata": {},
          "execution_count": 137
        }
      ]
    },
    {
      "cell_type": "code",
      "source": [
        "cars[4:]"
      ],
      "metadata": {
        "colab": {
          "base_uri": "https://localhost:8080/",
          "height": 0
        },
        "id": "YbOJksk4D5UC",
        "outputId": "7c0c9367-c334-4343-a2ee-d8498af2e500"
      },
      "execution_count": 138,
      "outputs": [
        {
          "output_type": "execute_result",
          "data": {
            "text/plain": [
              "['citreon', 'hyundai']"
            ]
          },
          "metadata": {},
          "execution_count": 138
        }
      ]
    },
    {
      "cell_type": "code",
      "source": [
        "cars[:4]"
      ],
      "metadata": {
        "colab": {
          "base_uri": "https://localhost:8080/",
          "height": 0
        },
        "id": "aHbmxdaZEjD4",
        "outputId": "8b7fc560-3a13-43d7-dbb0-219d38a2678e"
      },
      "execution_count": 139,
      "outputs": [
        {
          "output_type": "execute_result",
          "data": {
            "text/plain": [
              "['merc', 'bmw', 'toyota', 'rr']"
            ]
          },
          "metadata": {},
          "execution_count": 139
        }
      ]
    },
    {
      "cell_type": "code",
      "source": [
        "#reversing a list\n",
        "cars[::-1]"
      ],
      "metadata": {
        "colab": {
          "base_uri": "https://localhost:8080/",
          "height": 0
        },
        "id": "mF3rVfeREL1p",
        "outputId": "08cc5a04-2cb0-4b2f-9892-7109761a6f27"
      },
      "execution_count": 140,
      "outputs": [
        {
          "output_type": "execute_result",
          "data": {
            "text/plain": [
              "['hyundai', 'citreon', 'rr', 'toyota', 'bmw', 'merc']"
            ]
          },
          "metadata": {},
          "execution_count": 140
        }
      ]
    },
    {
      "cell_type": "code",
      "source": [
        "cars.reverse()\n",
        "cars"
      ],
      "metadata": {
        "colab": {
          "base_uri": "https://localhost:8080/",
          "height": 0
        },
        "id": "mzSZy3mXGsAk",
        "outputId": "329ee722-c3dd-468f-fd9c-920af344f8dc"
      },
      "execution_count": 141,
      "outputs": [
        {
          "output_type": "execute_result",
          "data": {
            "text/plain": [
              "['hyundai', 'citreon', 'rr', 'toyota', 'bmw', 'merc']"
            ]
          },
          "metadata": {},
          "execution_count": 141
        }
      ]
    },
    {
      "cell_type": "code",
      "source": [
        "cars[0]= \"Isuzu\""
      ],
      "metadata": {
        "id": "McGg-9dvEZq0"
      },
      "execution_count": 142,
      "outputs": []
    },
    {
      "cell_type": "code",
      "source": [
        "cars"
      ],
      "metadata": {
        "colab": {
          "base_uri": "https://localhost:8080/",
          "height": 0
        },
        "id": "8WPK2RdRE4SD",
        "outputId": "461b4921-6452-4c3a-efd2-209b21871985"
      },
      "execution_count": 143,
      "outputs": [
        {
          "output_type": "execute_result",
          "data": {
            "text/plain": [
              "['Isuzu', 'citreon', 'rr', 'toyota', 'bmw', 'merc']"
            ]
          },
          "metadata": {},
          "execution_count": 143
        }
      ]
    },
    {
      "cell_type": "code",
      "source": [
        "cars"
      ],
      "metadata": {
        "colab": {
          "base_uri": "https://localhost:8080/",
          "height": 0
        },
        "id": "3HRPFpQEE7t_",
        "outputId": "e0214a3e-e0f8-4f45-bde4-02fa8e6d824b"
      },
      "execution_count": 144,
      "outputs": [
        {
          "output_type": "execute_result",
          "data": {
            "text/plain": [
              "['Isuzu', 'citreon', 'rr', 'toyota', 'bmw', 'merc']"
            ]
          },
          "metadata": {},
          "execution_count": 144
        }
      ]
    },
    {
      "cell_type": "code",
      "source": [
        "cars.append(\"Mini cooper\")"
      ],
      "metadata": {
        "id": "lF-DEA8dE9jj"
      },
      "execution_count": 145,
      "outputs": []
    },
    {
      "cell_type": "code",
      "source": [
        "cars"
      ],
      "metadata": {
        "colab": {
          "base_uri": "https://localhost:8080/",
          "height": 0
        },
        "id": "V09hcxoAFC0A",
        "outputId": "06e61438-200a-45df-fd93-c03371210fa7"
      },
      "execution_count": 146,
      "outputs": [
        {
          "output_type": "execute_result",
          "data": {
            "text/plain": [
              "['Isuzu', 'citreon', 'rr', 'toyota', 'bmw', 'merc', 'Mini cooper']"
            ]
          },
          "metadata": {},
          "execution_count": 146
        }
      ]
    },
    {
      "cell_type": "code",
      "source": [
        "cars+[\"byd\",\"porsche\"]"
      ],
      "metadata": {
        "colab": {
          "base_uri": "https://localhost:8080/",
          "height": 0
        },
        "id": "1-KfB85AFEaU",
        "outputId": "06d53740-cbcf-4e9d-ad7b-61ed7c404395"
      },
      "execution_count": 147,
      "outputs": [
        {
          "output_type": "execute_result",
          "data": {
            "text/plain": [
              "['Isuzu',\n",
              " 'citreon',\n",
              " 'rr',\n",
              " 'toyota',\n",
              " 'bmw',\n",
              " 'merc',\n",
              " 'Mini cooper',\n",
              " 'byd',\n",
              " 'porsche']"
            ]
          },
          "metadata": {},
          "execution_count": 147
        }
      ]
    },
    {
      "cell_type": "code",
      "source": [
        "cars.extend([\"mahindra\",\"bugatti\"])"
      ],
      "metadata": {
        "id": "q7uy9-N0FNKD"
      },
      "execution_count": 148,
      "outputs": []
    },
    {
      "cell_type": "code",
      "source": [],
      "metadata": {
        "id": "ZPVFoPE0FQiT"
      },
      "execution_count": 148,
      "outputs": []
    },
    {
      "cell_type": "code",
      "source": [
        "# removing items from a list\n",
        "cars.remove(\"Mini cooper\")"
      ],
      "metadata": {
        "id": "rrKnlAY8FvpK"
      },
      "execution_count": 149,
      "outputs": []
    },
    {
      "cell_type": "code",
      "source": [
        "cars"
      ],
      "metadata": {
        "colab": {
          "base_uri": "https://localhost:8080/",
          "height": 0
        },
        "id": "2TUCWqPmF9m7",
        "outputId": "751e1550-0f62-4fe7-c44a-9cde0546101b"
      },
      "execution_count": 150,
      "outputs": [
        {
          "output_type": "execute_result",
          "data": {
            "text/plain": [
              "['Isuzu', 'citreon', 'rr', 'toyota', 'bmw', 'merc', 'mahindra', 'bugatti']"
            ]
          },
          "metadata": {},
          "execution_count": 150
        }
      ]
    },
    {
      "cell_type": "code",
      "source": [
        "cars.pop()"
      ],
      "metadata": {
        "colab": {
          "base_uri": "https://localhost:8080/",
          "height": 35
        },
        "id": "-xxZy1XdE5wQ",
        "outputId": "c884cfe2-d94e-4666-85bc-d8b03e36e313"
      },
      "execution_count": 151,
      "outputs": [
        {
          "output_type": "execute_result",
          "data": {
            "text/plain": [
              "'bugatti'"
            ],
            "application/vnd.google.colaboratory.intrinsic+json": {
              "type": "string"
            }
          },
          "metadata": {},
          "execution_count": 151
        }
      ]
    },
    {
      "cell_type": "code",
      "source": [
        "#list operations\n",
        "cars.sort()"
      ],
      "metadata": {
        "id": "Y3CK4wBfGQ9G"
      },
      "execution_count": 152,
      "outputs": []
    },
    {
      "cell_type": "code",
      "source": [
        "#note capital letters come before small letters\n",
        "cars"
      ],
      "metadata": {
        "colab": {
          "base_uri": "https://localhost:8080/",
          "height": 0
        },
        "id": "De8ly9UbGVor",
        "outputId": "8e964088-5c34-4fa6-a268-87b1bb6e639b"
      },
      "execution_count": 153,
      "outputs": [
        {
          "output_type": "execute_result",
          "data": {
            "text/plain": [
              "['Isuzu', 'bmw', 'citreon', 'mahindra', 'merc', 'rr', 'toyota']"
            ]
          },
          "metadata": {},
          "execution_count": 153
        }
      ]
    },
    {
      "cell_type": "code",
      "source": [
        "student_marks = [10,14,8,16,7,8,15,12,14]\n",
        "sum(student_marks)"
      ],
      "metadata": {
        "colab": {
          "base_uri": "https://localhost:8080/",
          "height": 0
        },
        "id": "3NWGnaoBGXhX",
        "outputId": "e8ec8d17-9259-4804-e386-5f58c9d371e3"
      },
      "execution_count": 154,
      "outputs": [
        {
          "output_type": "execute_result",
          "data": {
            "text/plain": [
              "104"
            ]
          },
          "metadata": {},
          "execution_count": 154
        }
      ]
    },
    {
      "cell_type": "code",
      "source": [
        "max(student_marks)"
      ],
      "metadata": {
        "colab": {
          "base_uri": "https://localhost:8080/",
          "height": 0
        },
        "id": "K57mXv0gHdcW",
        "outputId": "bd2f8f93-17d0-4c37-dfa3-bfc319b87fde"
      },
      "execution_count": 155,
      "outputs": [
        {
          "output_type": "execute_result",
          "data": {
            "text/plain": [
              "16"
            ]
          },
          "metadata": {},
          "execution_count": 155
        }
      ]
    },
    {
      "cell_type": "code",
      "source": [
        "min(student_marks)"
      ],
      "metadata": {
        "colab": {
          "base_uri": "https://localhost:8080/",
          "height": 0
        },
        "id": "rp-Sj807HkZE",
        "outputId": "2f1c2056-acac-4bf4-ae59-f91a1411aada"
      },
      "execution_count": 156,
      "outputs": [
        {
          "output_type": "execute_result",
          "data": {
            "text/plain": [
              "7"
            ]
          },
          "metadata": {},
          "execution_count": 156
        }
      ]
    },
    {
      "cell_type": "code",
      "source": [
        "set(student_marks)"
      ],
      "metadata": {
        "colab": {
          "base_uri": "https://localhost:8080/",
          "height": 0
        },
        "id": "zAlnLGs6HmQy",
        "outputId": "58a8238d-dea0-4b52-976b-5f74f5dffdd5"
      },
      "execution_count": 157,
      "outputs": [
        {
          "output_type": "execute_result",
          "data": {
            "text/plain": [
              "{7, 8, 10, 12, 14, 15, 16}"
            ]
          },
          "metadata": {},
          "execution_count": 157
        }
      ]
    },
    {
      "cell_type": "code",
      "source": [
        "sum(student_marks)/len(student_marks)"
      ],
      "metadata": {
        "colab": {
          "base_uri": "https://localhost:8080/",
          "height": 0
        },
        "id": "4So5lg5LHxvm",
        "outputId": "db0d7019-73f1-43fc-dda0-fa6ee5960812"
      },
      "execution_count": 158,
      "outputs": [
        {
          "output_type": "execute_result",
          "data": {
            "text/plain": [
              "11.555555555555555"
            ]
          },
          "metadata": {},
          "execution_count": 158
        }
      ]
    },
    {
      "cell_type": "code",
      "source": [
        "#Loops in  a list\n",
        "for car in cars:\n",
        "  print(car.upper())"
      ],
      "metadata": {
        "colab": {
          "base_uri": "https://localhost:8080/",
          "height": 0
        },
        "id": "kSxxOOFMsjTp",
        "outputId": "0a7942c0-9c86-4380-ca5e-a70c2e725aa3"
      },
      "execution_count": 195,
      "outputs": [
        {
          "output_type": "stream",
          "name": "stdout",
          "text": [
            "MERC\n",
            "BMW\n",
            "TOYOTA\n",
            "RR\n",
            "CITREON\n",
            "HYUNDAI\n"
          ]
        }
      ]
    },
    {
      "cell_type": "code",
      "source": [
        "# Each order is represented as a list: [customer_name, item, quantity, price_per_item, delivery_status]\n",
        "orders = [\n",
        "    [\"Alice\", \"Laptop\", 1, 750, \"delivered\"],\n",
        "    [\"Bob\", \"Phone\", 2, 400, \"pending\"],\n",
        "    [\"Charlie\", \"Headphones\", 1, 150, \"deli vered\"],\n",
        "    [\"David\", \"Phone\", \"two\", 400, \"delivered\"],  # wrong quantity format\n",
        "    [\"Eve\", \"Monitor\", 1, \"two hundred\", \"delivered \"],  # price is a string\n",
        "    [\"Frank\", \"Keyboard\", 1, 50, \"p3nding\"],\n",
        "    [\"Grace\", \"Mouse\", 1, 30, \"delivered\"],\n",
        "    [\"Heidi\", \"Laptop\", 2, 750, \"cancelled\"],\n",
        "    [\"Ivan\", \"Phone\", 1, 400, \"Delivered\"],  # case inconsistency\n",
        "    [\"Judy\", \"\", 1, 150, \"delivered\"],  # missing item infer by price of item\n",
        "]"
      ],
      "metadata": {
        "id": "_wxCq7HJvAW2"
      },
      "execution_count": 2,
      "outputs": []
    },
    {
      "cell_type": "code",
      "source": [
        "# cleaning data\n",
        "order_names = []\n",
        "order_items = []\n",
        "order_quantities = []\n",
        "order_prices = []\n",
        "order_statuses = []\n",
        "total_prices = []\n",
        "for order in orders:\n",
        "  order_names.append(order[0])\n",
        "  if  order[1]==\"\":\n",
        "    order_items.append(\"Headphones\")\n",
        "  else:\n",
        "    order_items.append(order[1])\n",
        "  if order[2]==\"two\":\n",
        "    order_quantities.append(2)\n",
        "  else:\n",
        "    order_quantities.append(order[2])\n",
        "  if order[3]==\"two hundred\":\n",
        "    order_prices.append(200)\n",
        "  else:\n",
        "    order_prices.append(order[3])\n",
        "  order_statuses.append(order[4].lower().strip().replace(\" \",\"\").replace(\"3\",\"e\"))\n",
        "\n",
        "print(order_names,order_items,order_quantities,order_prices,order_statuses)\n",
        "# total amount spent\n",
        "index = 0\n",
        "for price in order_prices:\n",
        "  total_prices.append(price*order_quantities[index])\n",
        "  index = index+1\n",
        "print(total_prices)\n",
        "print(sum(total_prices))\n",
        "# Average amount spend\n",
        "print(sum(total_prices)/len(total_prices))\n",
        "# Name of customer with highest amount spent\n",
        "print(order_names[total_prices.index(max(total_prices))])\n",
        "# lowest amount spent\n",
        "print(min(total_prices))\n",
        "# most sold item\n",
        "items_list = set(order_items)\n",
        "print(items_list)\n",
        "item_count = []\n",
        "ind = 0\n",
        "index = 0\n",
        "for items in items_list:\n",
        "  item_count.append(0)\n",
        "  for item in order_items:\n",
        "    if item==items:\n",
        "      item_count[ind] = item_count[ind]+order_quantities[index]\n",
        "    index = index+1\n",
        "  index = 0\n",
        "  ind = ind + 1\n",
        "items_list = list(items_list)\n",
        "print(items_list[item_count.index(max(item_count))])\n",
        "# number of undelivered items\n",
        "ind = 0\n",
        "total_undel=0\n",
        "for status in order_statuses:\n",
        "  if status!=\"delivered\":\n",
        "    total_undel = total_undel+order_quantities[ind]\n",
        "  ind = ind+1\n",
        "print(total_undel)"
      ],
      "metadata": {
        "colab": {
          "base_uri": "https://localhost:8080/",
          "height": 0
        },
        "id": "IxKCoey_vFV_",
        "outputId": "bc20ac62-f35d-4197-df36-e1418247fbcd"
      },
      "execution_count": 17,
      "outputs": [
        {
          "output_type": "stream",
          "name": "stdout",
          "text": [
            "['Alice', 'Bob', 'Charlie', 'David', 'Eve', 'Frank', 'Grace', 'Heidi', 'Ivan', 'Judy'] ['Laptop', 'Phone', 'Headphones', 'Phone', 'Monitor', 'Keyboard', 'Mouse', 'Laptop', 'Phone', 'Headphones'] [1, 2, 1, 2, 1, 1, 1, 2, 1, 1] [750, 400, 150, 400, 200, 50, 30, 750, 400, 150] ['delivered', 'pending', 'delivered', 'delivered', 'delivered', 'pending', 'delivered', 'cancelled', 'delivered', 'delivered']\n",
            "[750, 800, 150, 800, 200, 50, 30, 1500, 400, 150]\n",
            "4830\n",
            "483.0\n",
            "Heidi\n",
            "30\n",
            "{'Monitor', 'Mouse', 'Headphones', 'Phone', 'Keyboard', 'Laptop'}\n",
            "Phone\n",
            "5\n"
          ]
        }
      ]
    },
    {
      "cell_type": "code",
      "source": [
        "# Tuples: Like lists but unchangeable\n",
        "# no adding values, changing values or removing values\n",
        "# assign value during creation\n",
        "cars_tp = (\"merc\",\"bmw\",\"toyota\",\"rr\",\"citreon\",\"hyundai\")\n"
      ],
      "metadata": {
        "id": "kOIsGV3dH6GJ"
      },
      "execution_count": 160,
      "outputs": []
    },
    {
      "cell_type": "code",
      "source": [
        "list(cars_tp)"
      ],
      "metadata": {
        "colab": {
          "base_uri": "https://localhost:8080/",
          "height": 0
        },
        "id": "xQqxyTvxJ4Y5",
        "outputId": "dca98c59-d604-43a7-993f-10d91222f6a7"
      },
      "execution_count": 161,
      "outputs": [
        {
          "output_type": "execute_result",
          "data": {
            "text/plain": [
              "['merc', 'bmw', 'toyota', 'rr', 'citreon', 'hyundai']"
            ]
          },
          "metadata": {},
          "execution_count": 161
        }
      ]
    },
    {
      "cell_type": "code",
      "source": [
        "# assigning multiple variables with tuples\n",
        "weights = (20,25,55)\n",
        "cat_1, cat_2, exam = weights"
      ],
      "metadata": {
        "id": "XubgbUJzJ6fM"
      },
      "execution_count": 162,
      "outputs": []
    },
    {
      "cell_type": "code",
      "source": [
        "print(cat_1)"
      ],
      "metadata": {
        "colab": {
          "base_uri": "https://localhost:8080/",
          "height": 0
        },
        "id": "7_Tu1Uz6KIaK",
        "outputId": "eb0bb043-f573-43ce-9474-8750110699db"
      },
      "execution_count": 163,
      "outputs": [
        {
          "output_type": "stream",
          "name": "stdout",
          "text": [
            "20\n"
          ]
        }
      ]
    },
    {
      "cell_type": "code",
      "source": [
        "def basic_calc(a,b):\n",
        "  return (a+b, a-b, a*b, a/b)\n",
        "\n",
        "sum_val, dif_val, prod_val, div_val = basic_calc(10,5)"
      ],
      "metadata": {
        "id": "XR8OOURJKKqv"
      },
      "execution_count": 164,
      "outputs": []
    },
    {
      "cell_type": "code",
      "source": [
        "print(dif_val)"
      ],
      "metadata": {
        "colab": {
          "base_uri": "https://localhost:8080/",
          "height": 0
        },
        "id": "8x7NDVcaLCvu",
        "outputId": "10911266-c402-46db-fc7d-af2135c7ef13"
      },
      "execution_count": 165,
      "outputs": [
        {
          "output_type": "stream",
          "name": "stdout",
          "text": [
            "5\n"
          ]
        }
      ]
    },
    {
      "cell_type": "code",
      "source": [
        "# sets - get unique values\n",
        "names = [\"John\",\"Mary\",\"Edward\",\"John\",\"Mary\",\"Edward\"]\n",
        "set(names)"
      ],
      "metadata": {
        "colab": {
          "base_uri": "https://localhost:8080/",
          "height": 0
        },
        "id": "4SiWctzvLFYp",
        "outputId": "83055b27-76ed-486c-bf8c-6c8d876df0af"
      },
      "execution_count": 166,
      "outputs": [
        {
          "output_type": "execute_result",
          "data": {
            "text/plain": [
              "{'Edward', 'John', 'Mary'}"
            ]
          },
          "metadata": {},
          "execution_count": 166
        }
      ]
    },
    {
      "cell_type": "code",
      "source": [
        "# dictionaries - Key:Value pairs\n",
        "student_marks = {\"John\":10,\"Mary\":14,\"Edward\":8}\n",
        "print(student_marks)"
      ],
      "metadata": {
        "colab": {
          "base_uri": "https://localhost:8080/",
          "height": 0
        },
        "id": "C0SaTfGZLX2p",
        "outputId": "8e0c0d69-f92a-4c9e-86cf-d5c11396d941"
      },
      "execution_count": 167,
      "outputs": [
        {
          "output_type": "stream",
          "name": "stdout",
          "text": [
            "{'John': 10, 'Mary': 14, 'Edward': 8}\n"
          ]
        }
      ]
    },
    {
      "cell_type": "code",
      "source": [
        "student_marks[\"John\"]"
      ],
      "metadata": {
        "colab": {
          "base_uri": "https://localhost:8080/",
          "height": 0
        },
        "id": "6ihm0_cYLpSc",
        "outputId": "3c59e1b6-3b81-4695-828a-6db8300e4223"
      },
      "execution_count": 168,
      "outputs": [
        {
          "output_type": "execute_result",
          "data": {
            "text/plain": [
              "10"
            ]
          },
          "metadata": {},
          "execution_count": 168
        }
      ]
    },
    {
      "cell_type": "code",
      "source": [
        "student_marks[\"John\"] = 58"
      ],
      "metadata": {
        "id": "liA9N6S9L1ox"
      },
      "execution_count": 169,
      "outputs": []
    },
    {
      "cell_type": "code",
      "source": [
        "student_marks"
      ],
      "metadata": {
        "colab": {
          "base_uri": "https://localhost:8080/",
          "height": 0
        },
        "id": "GeHPGvYdL5Vb",
        "outputId": "99cb7947-9b77-4faa-89be-844b332d00d4"
      },
      "execution_count": 170,
      "outputs": [
        {
          "output_type": "execute_result",
          "data": {
            "text/plain": [
              "{'John': 58, 'Mary': 14, 'Edward': 8}"
            ]
          },
          "metadata": {},
          "execution_count": 170
        }
      ]
    },
    {
      "cell_type": "code",
      "source": [
        "student_marks[\"Peter\"] = 108"
      ],
      "metadata": {
        "id": "Sd2ZXpOPL9tB"
      },
      "execution_count": 171,
      "outputs": []
    },
    {
      "cell_type": "code",
      "source": [
        "student_marks"
      ],
      "metadata": {
        "colab": {
          "base_uri": "https://localhost:8080/",
          "height": 0
        },
        "id": "h1yJ5-mLMBNa",
        "outputId": "37a57433-82e0-4a6e-8004-96a593513a5e"
      },
      "execution_count": 172,
      "outputs": [
        {
          "output_type": "execute_result",
          "data": {
            "text/plain": [
              "{'John': 58, 'Mary': 14, 'Edward': 8, 'Peter': 108}"
            ]
          },
          "metadata": {},
          "execution_count": 172
        }
      ]
    },
    {
      "cell_type": "code",
      "source": [
        "student_marks.keys()"
      ],
      "metadata": {
        "colab": {
          "base_uri": "https://localhost:8080/",
          "height": 0
        },
        "id": "QI3aKJq5LsKK",
        "outputId": "a4496085-2e8a-45ca-f007-ccb0fca5a968"
      },
      "execution_count": 173,
      "outputs": [
        {
          "output_type": "execute_result",
          "data": {
            "text/plain": [
              "dict_keys(['John', 'Mary', 'Edward', 'Peter'])"
            ]
          },
          "metadata": {},
          "execution_count": 173
        }
      ]
    },
    {
      "cell_type": "code",
      "source": [
        "student_marks.values()"
      ],
      "metadata": {
        "colab": {
          "base_uri": "https://localhost:8080/",
          "height": 0
        },
        "id": "0G8trtqiLuin",
        "outputId": "b616ffa1-a468-4d4c-84ab-c797b180dda5"
      },
      "execution_count": 174,
      "outputs": [
        {
          "output_type": "execute_result",
          "data": {
            "text/plain": [
              "dict_values([58, 14, 8, 108])"
            ]
          },
          "metadata": {},
          "execution_count": 174
        }
      ]
    },
    {
      "cell_type": "code",
      "source": [
        "student_marks.items()"
      ],
      "metadata": {
        "colab": {
          "base_uri": "https://localhost:8080/",
          "height": 0
        },
        "id": "kfcpjVazLwSx",
        "outputId": "02c2b0a8-763c-40cd-9ff9-0fb0cf3cf0bd"
      },
      "execution_count": 175,
      "outputs": [
        {
          "output_type": "execute_result",
          "data": {
            "text/plain": [
              "dict_items([('John', 58), ('Mary', 14), ('Edward', 8), ('Peter', 108)])"
            ]
          },
          "metadata": {},
          "execution_count": 175
        }
      ]
    },
    {
      "cell_type": "code",
      "source": [
        "names = (\"John\",\"Mary\",\"Peter\")\n",
        "names"
      ],
      "metadata": {
        "colab": {
          "base_uri": "https://localhost:8080/",
          "height": 0
        },
        "id": "P3Q-VSfDLy7X",
        "outputId": "9e8a983b-0b7a-4900-d8ec-6a4ff9fb6e8a"
      },
      "execution_count": 18,
      "outputs": [
        {
          "output_type": "execute_result",
          "data": {
            "text/plain": [
              "('John', 'Mary', 'Peter')"
            ]
          },
          "metadata": {},
          "execution_count": 18
        }
      ]
    },
    {
      "cell_type": "code",
      "source": [
        "len(names)"
      ],
      "metadata": {
        "colab": {
          "base_uri": "https://localhost:8080/",
          "height": 0
        },
        "id": "z8u8NSctDLt6",
        "outputId": "0ce6d296-28b0-4e07-f197-08474053128f"
      },
      "execution_count": 19,
      "outputs": [
        {
          "output_type": "execute_result",
          "data": {
            "text/plain": [
              "3"
            ]
          },
          "metadata": {},
          "execution_count": 19
        }
      ]
    },
    {
      "cell_type": "code",
      "source": [
        "student_1, student_2, student_3 = names"
      ],
      "metadata": {
        "id": "PYhoj3PPDOaj"
      },
      "execution_count": 20,
      "outputs": []
    },
    {
      "cell_type": "code",
      "source": [
        "print(student_1)"
      ],
      "metadata": {
        "colab": {
          "base_uri": "https://localhost:8080/",
          "height": 0
        },
        "id": "LMQ3oNYNDWn0",
        "outputId": "deeb2762-0863-4ca6-c806-877557ffc299"
      },
      "execution_count": 21,
      "outputs": [
        {
          "output_type": "stream",
          "name": "stdout",
          "text": [
            "John\n"
          ]
        }
      ]
    },
    {
      "cell_type": "code",
      "source": [
        "def add_sub(a,b):\n",
        "  sum = a+b\n",
        "  dif = a-b\n",
        "  return (sum, dif)"
      ],
      "metadata": {
        "id": "4doeMl9XDdnG"
      },
      "execution_count": 22,
      "outputs": []
    },
    {
      "cell_type": "code",
      "source": [
        "add_sub(2,3)"
      ],
      "metadata": {
        "colab": {
          "base_uri": "https://localhost:8080/",
          "height": 0
        },
        "id": "vxn7TzjgDxj5",
        "outputId": "31f0dd72-dd39-4846-8601-21057635d2e6"
      },
      "execution_count": 23,
      "outputs": [
        {
          "output_type": "execute_result",
          "data": {
            "text/plain": [
              "(5, -1)"
            ]
          },
          "metadata": {},
          "execution_count": 23
        }
      ]
    },
    {
      "cell_type": "code",
      "source": [
        "addition, subtraction = add_sub(10,10)"
      ],
      "metadata": {
        "id": "DVsN0Uo-D0hl"
      },
      "execution_count": 24,
      "outputs": []
    },
    {
      "cell_type": "code",
      "source": [
        "print(addition)\n",
        "print(subtraction)"
      ],
      "metadata": {
        "colab": {
          "base_uri": "https://localhost:8080/",
          "height": 0
        },
        "id": "fuEnCqJWD8yy",
        "outputId": "48621717-9a8d-48c2-9194-dae7c402104f"
      },
      "execution_count": 25,
      "outputs": [
        {
          "output_type": "stream",
          "name": "stdout",
          "text": [
            "20\n",
            "0\n"
          ]
        }
      ]
    },
    {
      "cell_type": "code",
      "source": [
        "list_of_names = list(names)"
      ],
      "metadata": {
        "id": "SmpqHzjeEDkx"
      },
      "execution_count": 27,
      "outputs": []
    },
    {
      "cell_type": "code",
      "source": [
        "type(list_of_names)"
      ],
      "metadata": {
        "colab": {
          "base_uri": "https://localhost:8080/",
          "height": 0
        },
        "id": "8x_5KjUBE29j",
        "outputId": "c0a783fb-91d8-4ad6-aff5-aaa3916d5cc8"
      },
      "execution_count": 28,
      "outputs": [
        {
          "output_type": "execute_result",
          "data": {
            "text/plain": [
              "list"
            ]
          },
          "metadata": {},
          "execution_count": 28
        }
      ]
    },
    {
      "cell_type": "code",
      "source": [
        "tuple(list_of_names)"
      ],
      "metadata": {
        "colab": {
          "base_uri": "https://localhost:8080/",
          "height": 0
        },
        "id": "rrxOXEs8FDoe",
        "outputId": "caf59ad8-f200-4206-d3d5-a894d85e9616"
      },
      "execution_count": 29,
      "outputs": [
        {
          "output_type": "execute_result",
          "data": {
            "text/plain": [
              "('John', 'Mary', 'Peter')"
            ]
          },
          "metadata": {},
          "execution_count": 29
        }
      ]
    },
    {
      "cell_type": "code",
      "source": [
        "names[2]"
      ],
      "metadata": {
        "colab": {
          "base_uri": "https://localhost:8080/",
          "height": 35
        },
        "id": "L9ZNoXmnFGYm",
        "outputId": "b51ec0de-5bb1-4a86-d3ca-b96390a962a7"
      },
      "execution_count": 31,
      "outputs": [
        {
          "output_type": "execute_result",
          "data": {
            "text/plain": [
              "'Peter'"
            ],
            "application/vnd.google.colaboratory.intrinsic+json": {
              "type": "string"
            }
          },
          "metadata": {},
          "execution_count": 31
        }
      ]
    },
    {
      "cell_type": "code",
      "source": [
        "student_ages = [\"John\",20,\"Mary\",18]\n",
        "students= []\n",
        "ages = []\n",
        "for item in student_ages:\n",
        "  if type(item)==str:\n",
        "    students.append(item)\n",
        "  else:\n",
        "    ages.append(item)\n",
        "print(students)\n",
        "print(ages)\n"
      ],
      "metadata": {
        "colab": {
          "base_uri": "https://localhost:8080/",
          "height": 0
        },
        "id": "HKAKfdb0Faa6",
        "outputId": "74e6e8d0-2c92-4a58-a429-8d502d819d61"
      },
      "execution_count": 32,
      "outputs": [
        {
          "output_type": "stream",
          "name": "stdout",
          "text": [
            "['John', 'Mary']\n",
            "[20, 18]\n"
          ]
        }
      ]
    },
    {
      "cell_type": "code",
      "source": [
        "student_marks = {\"John\":30,\n",
        "                 \"Mary\":18,\n",
        "                 \"Peter\":40\n",
        "                 }\n",
        "print(student_marks)"
      ],
      "metadata": {
        "colab": {
          "base_uri": "https://localhost:8080/",
          "height": 0
        },
        "id": "Kk1uUPKHHMNr",
        "outputId": "501e9dde-784c-4610-f39d-9af787e72075"
      },
      "execution_count": 33,
      "outputs": [
        {
          "output_type": "stream",
          "name": "stdout",
          "text": [
            "{'John': 30, 'Mary': 18, 'Peter': 40}\n"
          ]
        }
      ]
    },
    {
      "cell_type": "code",
      "source": [
        "student_marks[\"John\"]"
      ],
      "metadata": {
        "colab": {
          "base_uri": "https://localhost:8080/",
          "height": 0
        },
        "id": "wZd8QuZGIoXD",
        "outputId": "3975d4bd-9c27-4e17-f854-b13d947cbade"
      },
      "execution_count": 34,
      "outputs": [
        {
          "output_type": "execute_result",
          "data": {
            "text/plain": [
              "30"
            ]
          },
          "metadata": {},
          "execution_count": 34
        }
      ]
    },
    {
      "cell_type": "code",
      "source": [
        "student_marks[\"John\"] = 50\n",
        "student_marks"
      ],
      "metadata": {
        "colab": {
          "base_uri": "https://localhost:8080/",
          "height": 0
        },
        "id": "OUroZVCXJPEC",
        "outputId": "89dbb02a-2501-4f04-f74e-fa6b844a7302"
      },
      "execution_count": 35,
      "outputs": [
        {
          "output_type": "execute_result",
          "data": {
            "text/plain": [
              "{'John': 50, 'Mary': 18, 'Peter': 40}"
            ]
          },
          "metadata": {},
          "execution_count": 35
        }
      ]
    },
    {
      "cell_type": "code",
      "source": [
        "student_marks[\"Edward\"]=45"
      ],
      "metadata": {
        "id": "GX1P1faAJfOI"
      },
      "execution_count": 36,
      "outputs": []
    },
    {
      "cell_type": "code",
      "source": [
        "student_marks"
      ],
      "metadata": {
        "colab": {
          "base_uri": "https://localhost:8080/",
          "height": 0
        },
        "id": "yuJEFOc2JsFJ",
        "outputId": "e4def90c-706b-46a6-a027-0b80851cdc92"
      },
      "execution_count": 37,
      "outputs": [
        {
          "output_type": "execute_result",
          "data": {
            "text/plain": [
              "{'John': 50, 'Mary': 18, 'Peter': 40, 'Edward': 45}"
            ]
          },
          "metadata": {},
          "execution_count": 37
        }
      ]
    },
    {
      "cell_type": "code",
      "source": [
        "student_marks.pop(\"John\")"
      ],
      "metadata": {
        "colab": {
          "base_uri": "https://localhost:8080/",
          "height": 0
        },
        "id": "q0WbBF1GJujC",
        "outputId": "02ef5f68-d797-4526-e1f4-2f70c4127ab1"
      },
      "execution_count": 39,
      "outputs": [
        {
          "output_type": "execute_result",
          "data": {
            "text/plain": [
              "50"
            ]
          },
          "metadata": {},
          "execution_count": 39
        }
      ]
    },
    {
      "cell_type": "code",
      "source": [
        "student_marks"
      ],
      "metadata": {
        "colab": {
          "base_uri": "https://localhost:8080/",
          "height": 0
        },
        "id": "zAwSa7JBJ-6o",
        "outputId": "eacefdd3-835f-42c7-df1f-b9c4e54c8ea9"
      },
      "execution_count": 40,
      "outputs": [
        {
          "output_type": "execute_result",
          "data": {
            "text/plain": [
              "{'Mary': 18, 'Peter': 40, 'Edward': 45}"
            ]
          },
          "metadata": {},
          "execution_count": 40
        }
      ]
    },
    {
      "cell_type": "code",
      "source": [
        "student_marks.keys()"
      ],
      "metadata": {
        "colab": {
          "base_uri": "https://localhost:8080/",
          "height": 0
        },
        "id": "ZsG63rpDKGfG",
        "outputId": "ab4b4267-e1c0-4cab-d9d9-474d02c46a46"
      },
      "execution_count": 42,
      "outputs": [
        {
          "output_type": "execute_result",
          "data": {
            "text/plain": [
              "dict_keys(['Mary', 'Peter', 'Edward'])"
            ]
          },
          "metadata": {},
          "execution_count": 42
        }
      ]
    },
    {
      "cell_type": "code",
      "source": [
        "student_marks.values()"
      ],
      "metadata": {
        "colab": {
          "base_uri": "https://localhost:8080/",
          "height": 0
        },
        "id": "G8e7AAZiKQMi",
        "outputId": "a56e91ec-ef27-4dd7-ab7b-f588d4bbcbce"
      },
      "execution_count": 43,
      "outputs": [
        {
          "output_type": "execute_result",
          "data": {
            "text/plain": [
              "dict_values([18, 40, 45])"
            ]
          },
          "metadata": {},
          "execution_count": 43
        }
      ]
    },
    {
      "cell_type": "code",
      "source": [
        "student_marks.items()"
      ],
      "metadata": {
        "colab": {
          "base_uri": "https://localhost:8080/",
          "height": 0
        },
        "id": "XElNzwGDLB8N",
        "outputId": "4d47899a-a935-4e9e-cbc0-6e58188758ca"
      },
      "execution_count": 44,
      "outputs": [
        {
          "output_type": "execute_result",
          "data": {
            "text/plain": [
              "dict_items([('Mary', 18), ('Peter', 40), ('Edward', 45)])"
            ]
          },
          "metadata": {},
          "execution_count": 44
        }
      ]
    },
    {
      "cell_type": "code",
      "source": [
        "for keys in student_marks.keys():\n",
        "  print(keys)"
      ],
      "metadata": {
        "colab": {
          "base_uri": "https://localhost:8080/",
          "height": 0
        },
        "id": "ikRmH1QpLKEI",
        "outputId": "77c37248-d2cc-4a0f-cf65-2b94116af5dd"
      },
      "execution_count": 45,
      "outputs": [
        {
          "output_type": "stream",
          "name": "stdout",
          "text": [
            "Mary\n",
            "Peter\n",
            "Edward\n"
          ]
        }
      ]
    },
    {
      "cell_type": "code",
      "source": [
        "for marks in student_marks.values():\n",
        "  print(marks)"
      ],
      "metadata": {
        "colab": {
          "base_uri": "https://localhost:8080/",
          "height": 0
        },
        "id": "-AWMolsnMZg_",
        "outputId": "73f42bd3-a023-4cbc-b231-bdabfeae46d3"
      },
      "execution_count": 46,
      "outputs": [
        {
          "output_type": "stream",
          "name": "stdout",
          "text": [
            "18\n",
            "40\n",
            "45\n"
          ]
        }
      ]
    },
    {
      "cell_type": "code",
      "source": [
        "for student, marks in student_marks.items():\n",
        "  print(student,\"scored\",marks)"
      ],
      "metadata": {
        "colab": {
          "base_uri": "https://localhost:8080/",
          "height": 0
        },
        "id": "nRbYxHoVMi54",
        "outputId": "2c63a465-6f4a-402f-a7c3-37676952b101"
      },
      "execution_count": 50,
      "outputs": [
        {
          "output_type": "stream",
          "name": "stdout",
          "text": [
            "Mary scored 18\n",
            "Peter scored 40\n",
            "Edward scored 45\n"
          ]
        }
      ]
    },
    {
      "cell_type": "code",
      "source": [
        "customer_data = {\n",
        "    \"Jane\":[\"Lamp\",500,\"20/02/2015\"],\n",
        "    \"Peter\":[\"bulb\",50,\"21/02/2015\"],\n",
        "    \"Alfred\":[\"Socket\",250,\"20/02/2015\"],\n",
        "    \"Eden\":[\"Lamp\",500,\"22/02/2015\"]\n",
        "}\n",
        "price_list = [item[1] for item in customer_data.values()]\n",
        "# print out the customer who spent the most\n",
        "# e.g Peter bought a bulb for 50 KES on 21/02/2015"
      ],
      "metadata": {
        "id": "KdPWM_xxM3Lg"
      },
      "execution_count": 55,
      "outputs": []
    },
    {
      "cell_type": "code",
      "source": [
        "price_list"
      ],
      "metadata": {
        "colab": {
          "base_uri": "https://localhost:8080/",
          "height": 0
        },
        "id": "iMRBDKs0Z4R0",
        "outputId": "fcb5aef4-cc32-492c-c158-69379de6dc7f"
      },
      "execution_count": 56,
      "outputs": [
        {
          "output_type": "execute_result",
          "data": {
            "text/plain": [
              "[500, 50, 250, 500]"
            ]
          },
          "metadata": {},
          "execution_count": 56
        }
      ]
    },
    {
      "cell_type": "code",
      "source": [
        "max_value = 0\n",
        "for val in customer_data.values():\n",
        "  if val[1] > max_value:\n",
        "    max_value = val[1]\n",
        "\n",
        "for key, val in customer_data.items():\n",
        "  if val[1] == max_value:\n",
        "    print(key,\"bought a\",val[0],\"for\",val[1],\"KES on\",val[2])"
      ],
      "metadata": {
        "colab": {
          "base_uri": "https://localhost:8080/",
          "height": 0
        },
        "id": "-DRampcxPhIH",
        "outputId": "afdb3c29-f263-4f70-f476-94c5f81d4db6"
      },
      "execution_count": 54,
      "outputs": [
        {
          "output_type": "stream",
          "name": "stdout",
          "text": [
            "Jane bought a Lamp for 500 KES on 20/02/2015\n",
            "Eden bought a Lamp for 500 KES on 22/02/2015\n"
          ]
        }
      ]
    },
    {
      "cell_type": "code",
      "source": [
        "students_data = {\n",
        "    \"S001\": {\"name\": \"Alice\", \"age\": 20, \"score\": 88, \"passed\": True},\n",
        "    \"S002\": {\"name\": \"Bob\", \"age\": 22, \"score\": 76, \"passed\": True},\n",
        "    \"S003\": {\"name\": \"Charlie\", \"age\": 21, \"score\": 45, \"passed\": False},\n",
        "    \"S004\": {\"name\": \"David\", \"age\": 23, \"score\": 92, \"passed\": True},\n",
        "    \"S005\": {\"name\": \"Eva\", \"age\": 20, \"score\": 34, \"passed\": False}\n",
        "}"
      ],
      "metadata": {
        "id": "hVneBp78Qy0I"
      },
      "execution_count": 1,
      "outputs": []
    },
    {
      "cell_type": "markdown",
      "source": [
        "1. Add a new student with ID \"S006\" name \"Frank\", age 22, score 80, passed True\n",
        "2. Create a list called \"top_performers\" that contains students who scored above 75.\n",
        "3. create a function that when given a student's name returns the data on the student, if the student is not present it should return \"student not found\"\n",
        "4. Create a dictionary containing summary values based on the data above as follows:\n",
        "\n",
        "summary = {\n",
        "    \"total_students\": ...,\n",
        "    \"students_passed\": ...,\n",
        "    \"highest_score\": ...,\n",
        "    \"lowest_score\": ...\n",
        "}\n",
        "\n"
      ],
      "metadata": {
        "id": "i2fbXJzlvhb9"
      }
    },
    {
      "cell_type": "code",
      "source": [
        "students_data[\"S006\"] = {\"name\": \"Frank\", \"age\": 22, \"score\": 80, \"passed\": True}"
      ],
      "metadata": {
        "id": "xyNZYGzEvwYy"
      },
      "execution_count": 2,
      "outputs": []
    },
    {
      "cell_type": "code",
      "source": [
        "top_performers = [value[\"name\"] for value in students_data.values() if value[\"score\"]>75]\n",
        "top_performers.sort()\n",
        "top_performers"
      ],
      "metadata": {
        "colab": {
          "base_uri": "https://localhost:8080/",
          "height": 0
        },
        "id": "sMfqXW04v3Es",
        "outputId": "6a9ff8fe-7b98-4ab0-aef9-9c460f7e10f9"
      },
      "execution_count": 16,
      "outputs": [
        {
          "output_type": "execute_result",
          "data": {
            "text/plain": [
              "['Alice', 'Bob', 'David', 'Frank']"
            ]
          },
          "metadata": {},
          "execution_count": 16
        }
      ]
    },
    {
      "cell_type": "code",
      "source": [
        "def get_student_data(name):\n",
        "  students_data = {\n",
        "    \"S001\": {\"name\": \"Alice\", \"age\": 20, \"score\": 88, \"passed\": True},\n",
        "    \"S002\": {\"name\": \"Bob\", \"age\": 22, \"score\": 76, \"passed\": True},\n",
        "    \"S003\": {\"name\": \"Charlie\", \"age\": 21, \"score\": 45, \"passed\": False},\n",
        "    \"S004\": {\"name\": \"David\", \"age\": 23, \"score\": 92, \"passed\": True},\n",
        "    \"S005\": {\"name\": \"Eva\", \"age\": 20, \"score\": 34, \"passed\": False}\n",
        "}\n",
        "  for value in students_data.values():\n",
        "    if value[\"name\"].lower()==name.lower():\n",
        "      return value\n",
        "  return \"Student not found\"\n",
        "\n",
        "get_student_data(\"Frank\")"
      ],
      "metadata": {
        "colab": {
          "base_uri": "https://localhost:8080/",
          "height": 35
        },
        "id": "3YR8u_03wKT8",
        "outputId": "a63b1620-4133-4057-d4ce-ff1294d85576"
      },
      "execution_count": 10,
      "outputs": [
        {
          "output_type": "execute_result",
          "data": {
            "text/plain": [
              "'Student not found'"
            ],
            "application/vnd.google.colaboratory.intrinsic+json": {
              "type": "string"
            }
          },
          "metadata": {},
          "execution_count": 10
        }
      ]
    },
    {
      "cell_type": "code",
      "source": [
        "summary = {\n",
        "    \"total_students\": len(students_data),\n",
        "    \"students_passed\": len([value[\"name\"] for value in students_data.values() if value[\"passed\"]==True]),\n",
        "    \"highest_score\": max([value[\"score\"] for value in students_data.values()]),\n",
        "    \"lowest_score\": min([value[\"score\"] for value in students_data.values()])\n",
        "}\n",
        "summary"
      ],
      "metadata": {
        "colab": {
          "base_uri": "https://localhost:8080/",
          "height": 0
        },
        "id": "Kzqtn0VrwMAN",
        "outputId": "d3e08d4b-c5a9-4fdf-f2f0-3149e97275e2"
      },
      "execution_count": 11,
      "outputs": [
        {
          "output_type": "execute_result",
          "data": {
            "text/plain": [
              "{'total_students': 6,\n",
              " 'students_passed': 4,\n",
              " 'highest_score': 92,\n",
              " 'lowest_score': 34}"
            ]
          },
          "metadata": {},
          "execution_count": 11
        }
      ]
    },
    {
      "cell_type": "code",
      "source": [
        "counter = 5\n",
        "while counter >0:\n",
        "  print(\"Hi\"*counter)\n",
        "  counter = counter - 1"
      ],
      "metadata": {
        "colab": {
          "base_uri": "https://localhost:8080/",
          "height": 0
        },
        "id": "z1-MSe1mxdJf",
        "outputId": "837a2b25-da13-4a53-8247-c663b0733a1f"
      },
      "execution_count": 1,
      "outputs": [
        {
          "output_type": "stream",
          "name": "stdout",
          "text": [
            "HiHiHiHiHi\n",
            "HiHiHiHi\n",
            "HiHiHi\n",
            "HiHi\n",
            "Hi\n"
          ]
        }
      ]
    },
    {
      "cell_type": "code",
      "source": [
        "valid = False\n",
        "while not valid:\n",
        "  num = input(\"Enter a value\")\n",
        "  if num.isnumeric():\n",
        "    valid = True"
      ],
      "metadata": {
        "colab": {
          "base_uri": "https://localhost:8080/",
          "height": 0
        },
        "id": "BhuBjwyhQpNb",
        "outputId": "2e9ab930-ebd5-4fcd-e27d-207eabaf678e"
      },
      "execution_count": 2,
      "outputs": [
        {
          "name": "stdout",
          "output_type": "stream",
          "text": [
            "Enter a valuet\n",
            "Enter a value12\n"
          ]
        }
      ]
    },
    {
      "cell_type": "code",
      "source": [
        "while True:\n",
        "  num = input(\"Enter a value\")\n",
        "  if num.isnumeric():\n",
        "    break"
      ],
      "metadata": {
        "colab": {
          "base_uri": "https://localhost:8080/",
          "height": 0
        },
        "id": "CgAez-DLSv0K",
        "outputId": "e1c7e4e7-5fad-41c4-8ad7-4ba3995857f1"
      },
      "execution_count": 3,
      "outputs": [
        {
          "name": "stdout",
          "output_type": "stream",
          "text": [
            "Enter a valuett\n",
            "Enter a value34\n"
          ]
        }
      ]
    },
    {
      "cell_type": "code",
      "source": [
        "ages = [18,20,32,40]\n",
        "for age in ages:\n",
        "  if age == 32:\n",
        "    print(\"found\")\n",
        "    break\n",
        "  else:\n",
        "    print(\"not yet found\")"
      ],
      "metadata": {
        "colab": {
          "base_uri": "https://localhost:8080/",
          "height": 0
        },
        "id": "9r97sggmTk9q",
        "outputId": "4835acc1-13eb-45c0-cfec-87dddeeee122"
      },
      "execution_count": 4,
      "outputs": [
        {
          "output_type": "stream",
          "name": "stdout",
          "text": [
            "not yet found\n",
            "not yet found\n",
            "found\n"
          ]
        }
      ]
    },
    {
      "cell_type": "code",
      "source": [
        "ages = [20,15,30,12,30,52,40,33]\n",
        "for age in ages:\n",
        "  if age < 21:\n",
        "    continue\n",
        "  elif age == 40:\n",
        "    break\n",
        "  print(age,\"is a valid age\")"
      ],
      "metadata": {
        "colab": {
          "base_uri": "https://localhost:8080/",
          "height": 0
        },
        "id": "_v14N7ELUAfC",
        "outputId": "acbdfd36-ab3a-4521-e8d9-3dec06d3abb8"
      },
      "execution_count": 9,
      "outputs": [
        {
          "output_type": "stream",
          "name": "stdout",
          "text": [
            "30 is a valid age\n",
            "30 is a valid age\n",
            "52 is a valid age\n"
          ]
        }
      ]
    },
    {
      "cell_type": "code",
      "source": [
        "bank_accounts = [\"John\",\"Password!.\",\"James\",\"12ry2yu2\",\"Mercy\",\"46382\",\"Harriet\",\"gdsghd\",\"Edward\",\"tryeu\",\"Ann\",\"wsxft\"]\n",
        "bank_ledger = {\n",
        "    \"John\":{\"1\":[\"deposit\",15000,\"20/02/2025\"],\n",
        "            \"2\":[\"deposit\",5000,\"22/02/2025\"],\n",
        "            \"3\":[\"withdrawal\",2500,\"23/02/2025\"],\n",
        "            \"4\":[\"deposit\",250,\"23/02/2025\"],\n",
        "            },\n",
        "    \"Harriet\":{\"1\":[\"deposit\",5800,\"19/02/2025\"],\n",
        "            \"2\":[\"withdrawal\",3000,\"20/02/2025\"],\n",
        "            \"3\":[\"withdrawal\",2000,\"21/02/2025\"],\n",
        "            \"4\":[\"deposit\",7000,\"22/02/2025\"]\n",
        "            },\n",
        "    \"James\":{\"1\":[\"deposit\",10000,\"19/02/2025\"],\n",
        "            \"2\":[\"withdrawal\",2650,\"19/02/2025\"],\n",
        "            \"3\":[\"withdrawal\",1800,\"21/02/2025\"],\n",
        "            \"4\":[\"withdrawal\",3600,\"22/02/2025\"]\n",
        "            },\n",
        "    \"Ann\":{\"1\":[\"deposit\",3000,\"19/02/2025\"],\n",
        "            \"2\":[\"deposit\",3500,\"19/02/2025\"],\n",
        "            \"3\":[\"deposit\",2200,\"21/02/2025\"],\n",
        "            \"4\":[\"withdrawal\",8700,\"22/02/2025\"]\n",
        "          }\n",
        "}"
      ],
      "metadata": {
        "id": "VfEHpQYaVsG_"
      },
      "execution_count": 2,
      "outputs": []
    },
    {
      "cell_type": "markdown",
      "source": [
        "# ABC Bank Ledger\n",
        "The datastructure above is an extract from the ABC bank Ledger and also a list containing the account names and their passwords sequentially. ABC bank require a system that allows users to withdraw and deposit money to their accounts. Consistency in accounts is extremely important. Addionally, the users need a good experience(handle errors wisely - use if statements not try...except!!!)\n",
        "Create a function that allows users to login, then prompts the user for which operation they want to do and finally gives them their bank balance after the operation then reprompts them if they want to do another operation. The operation done should be reflected in bank ledger.\n",
        "\n",
        "Flow:\n",
        "1: Enter your name\n",
        "2. Enter your password\n",
        "3. Which operation do you want to do(deposit, withdraw, view my legder, exit)\n",
        "\n",
        "\n",
        "-- if deposit/withdraw:\n",
        "- enter amount\n",
        "- your bank balance is now ****\n",
        "\n",
        "-- if view my ledger:\n",
        "- you deposited --- on *****\n",
        "- you deposited --- on *****\n",
        "- ***********\n",
        "- Your current balance is ******\n",
        "\n",
        "4. What other operation do you want to do?\n",
        "\n",
        "-- if exit\n",
        "- goodbye name\n",
        "\n",
        "\n",
        "Consistency and experience rules:\n",
        "- you cannot withdraw more than your balance\n",
        "- reprompt the user for the correct value if they enter an invalid value at any point in time"
      ],
      "metadata": {
        "id": "CBKXNvfXZk-x"
      }
    },
    {
      "cell_type": "markdown",
      "source": [
        "# Exception handling\n",
        "- Exceptions are errors that occur in runtime.\n",
        "- Syntax errors occur during coding. They are flagged by the editor.\n",
        "\n",
        "| Exception           | Description                                                                           |\n",
        "| ------------------- | ------------------------------------------------------------------------------------- |\n",
        "| `Name Error` | Raised when attempting to use an undefined variable/function name |\n",
        "| `ZeroDivisionError` | Raised when a number is divided by zero                                               |\n",
        "| `ValueError`        | Raised when a function receives an argument of the right type but inappropriate value |\n",
        "| `TypeError`         | Raised when an operation is applied to an object of inappropriate type                |\n",
        "| `IndexError`        | Raised when accessing a list index that doesn't exist                                 |\n",
        "| `KeyError`          | Raised when a dictionary key is not found                                             |\n",
        "| `FileNotFoundError` | Raised when trying to open a file that does not exist                                 |\n"
      ],
      "metadata": {
        "id": "1S1lrJDZ4lPM"
      }
    },
    {
      "cell_type": "code",
      "source": [
        "\"one\"+1"
      ],
      "metadata": {
        "colab": {
          "base_uri": "https://localhost:8080/",
          "height": 141
        },
        "id": "6vYgb5pCMIbc",
        "outputId": "e80b5733-1db7-434e-850f-0d042b49b59c"
      },
      "execution_count": 22,
      "outputs": [
        {
          "output_type": "error",
          "ename": "TypeError",
          "evalue": "can only concatenate str (not \"int\") to str",
          "traceback": [
            "\u001b[0;31m---------------------------------------------------------------------------\u001b[0m",
            "\u001b[0;31mTypeError\u001b[0m                                 Traceback (most recent call last)",
            "\u001b[0;32m/tmp/ipython-input-22-3494422942.py\u001b[0m in \u001b[0;36m<cell line: 0>\u001b[0;34m()\u001b[0m\n\u001b[0;32m----> 1\u001b[0;31m \u001b[0;34m\"one\"\u001b[0m\u001b[0;34m+\u001b[0m\u001b[0;36m1\u001b[0m\u001b[0;34m\u001b[0m\u001b[0;34m\u001b[0m\u001b[0m\n\u001b[0m",
            "\u001b[0;31mTypeError\u001b[0m: can only concatenate str (not \"int\") to str"
          ]
        }
      ]
    },
    {
      "cell_type": "code",
      "source": [
        "int(\"one\")"
      ],
      "metadata": {
        "colab": {
          "base_uri": "https://localhost:8080/",
          "height": 141
        },
        "id": "5VNj2H-3MPa8",
        "outputId": "316dc8ec-6d1e-47e7-deb5-7a9f213a3eaa"
      },
      "execution_count": 23,
      "outputs": [
        {
          "output_type": "error",
          "ename": "ValueError",
          "evalue": "invalid literal for int() with base 10: 'one'",
          "traceback": [
            "\u001b[0;31m---------------------------------------------------------------------------\u001b[0m",
            "\u001b[0;31mValueError\u001b[0m                                Traceback (most recent call last)",
            "\u001b[0;32m/tmp/ipython-input-23-1470638860.py\u001b[0m in \u001b[0;36m<cell line: 0>\u001b[0;34m()\u001b[0m\n\u001b[0;32m----> 1\u001b[0;31m \u001b[0mint\u001b[0m\u001b[0;34m(\u001b[0m\u001b[0;34m\"one\"\u001b[0m\u001b[0;34m)\u001b[0m\u001b[0;34m\u001b[0m\u001b[0;34m\u001b[0m\u001b[0m\n\u001b[0m",
            "\u001b[0;31mValueError\u001b[0m: invalid literal for int() with base 10: 'one'"
          ]
        }
      ]
    },
    {
      "cell_type": "code",
      "source": [],
      "metadata": {
        "id": "l_XPMWkaMO8Q"
      },
      "execution_count": null,
      "outputs": []
    },
    {
      "cell_type": "code",
      "source": [
        "25/0"
      ],
      "metadata": {
        "colab": {
          "base_uri": "https://localhost:8080/",
          "height": 141
        },
        "id": "k-A8qHsoLnnf",
        "outputId": "9c09429b-f1c9-4163-e51d-f85d94fcb4dc"
      },
      "execution_count": 21,
      "outputs": [
        {
          "output_type": "error",
          "ename": "ZeroDivisionError",
          "evalue": "division by zero",
          "traceback": [
            "\u001b[0;31m---------------------------------------------------------------------------\u001b[0m",
            "\u001b[0;31mZeroDivisionError\u001b[0m                         Traceback (most recent call last)",
            "\u001b[0;32m/tmp/ipython-input-21-1020363729.py\u001b[0m in \u001b[0;36m<cell line: 0>\u001b[0;34m()\u001b[0m\n\u001b[0;32m----> 1\u001b[0;31m \u001b[0;36m25\u001b[0m\u001b[0;34m/\u001b[0m\u001b[0;36m0\u001b[0m\u001b[0;34m\u001b[0m\u001b[0;34m\u001b[0m\u001b[0m\n\u001b[0m",
            "\u001b[0;31mZeroDivisionError\u001b[0m: division by zero"
          ]
        }
      ]
    },
    {
      "cell_type": "code",
      "source": [
        "ages=[20,14,13,56]\n",
        "print(ages[5])"
      ],
      "metadata": {
        "colab": {
          "base_uri": "https://localhost:8080/",
          "height": 158
        },
        "id": "eZI3xeHOKTgF",
        "outputId": "9c4ffc81-9dbe-4c0c-da75-b1938f0a1471"
      },
      "execution_count": 18,
      "outputs": [
        {
          "output_type": "error",
          "ename": "IndexError",
          "evalue": "list index out of range",
          "traceback": [
            "\u001b[0;31m---------------------------------------------------------------------------\u001b[0m",
            "\u001b[0;31mIndexError\u001b[0m                                Traceback (most recent call last)",
            "\u001b[0;32m/tmp/ipython-input-18-1551793884.py\u001b[0m in \u001b[0;36m<cell line: 0>\u001b[0;34m()\u001b[0m\n\u001b[1;32m      1\u001b[0m \u001b[0mages\u001b[0m\u001b[0;34m=\u001b[0m\u001b[0;34m[\u001b[0m\u001b[0;36m20\u001b[0m\u001b[0;34m,\u001b[0m\u001b[0;36m14\u001b[0m\u001b[0;34m,\u001b[0m\u001b[0;36m13\u001b[0m\u001b[0;34m,\u001b[0m\u001b[0;36m56\u001b[0m\u001b[0;34m]\u001b[0m\u001b[0;34m\u001b[0m\u001b[0;34m\u001b[0m\u001b[0m\n\u001b[0;32m----> 2\u001b[0;31m \u001b[0mprint\u001b[0m\u001b[0;34m(\u001b[0m\u001b[0mages\u001b[0m\u001b[0;34m[\u001b[0m\u001b[0;36m5\u001b[0m\u001b[0;34m]\u001b[0m\u001b[0;34m)\u001b[0m\u001b[0;34m\u001b[0m\u001b[0;34m\u001b[0m\u001b[0m\n\u001b[0m",
            "\u001b[0;31mIndexError\u001b[0m: list index out of range"
          ]
        }
      ]
    },
    {
      "cell_type": "code",
      "source": [
        "student_marks = {\"John\":20,\"Mary\":15}\n",
        "print(student_marks[\"Peter\"])"
      ],
      "metadata": {
        "colab": {
          "base_uri": "https://localhost:8080/",
          "height": 158
        },
        "id": "dCUsoIuEK7qw",
        "outputId": "252ed27a-8c2d-4a22-c25d-940ffa11cd6d"
      },
      "execution_count": 20,
      "outputs": [
        {
          "output_type": "error",
          "ename": "KeyError",
          "evalue": "'Peter'",
          "traceback": [
            "\u001b[0;31m---------------------------------------------------------------------------\u001b[0m",
            "\u001b[0;31mKeyError\u001b[0m                                  Traceback (most recent call last)",
            "\u001b[0;32m/tmp/ipython-input-20-609670446.py\u001b[0m in \u001b[0;36m<cell line: 0>\u001b[0;34m()\u001b[0m\n\u001b[1;32m      1\u001b[0m \u001b[0mstudent_marks\u001b[0m \u001b[0;34m=\u001b[0m \u001b[0;34m{\u001b[0m\u001b[0;34m\"John\"\u001b[0m\u001b[0;34m:\u001b[0m\u001b[0;36m20\u001b[0m\u001b[0;34m,\u001b[0m\u001b[0;34m\"Mary\"\u001b[0m\u001b[0;34m:\u001b[0m\u001b[0;36m15\u001b[0m\u001b[0;34m}\u001b[0m\u001b[0;34m\u001b[0m\u001b[0;34m\u001b[0m\u001b[0m\n\u001b[0;32m----> 2\u001b[0;31m \u001b[0mprint\u001b[0m\u001b[0;34m(\u001b[0m\u001b[0mstudent_marks\u001b[0m\u001b[0;34m[\u001b[0m\u001b[0;34m\"Peter\"\u001b[0m\u001b[0;34m]\u001b[0m\u001b[0;34m)\u001b[0m\u001b[0;34m\u001b[0m\u001b[0;34m\u001b[0m\u001b[0m\n\u001b[0m",
            "\u001b[0;31mKeyError\u001b[0m: 'Peter'"
          ]
        }
      ]
    },
    {
      "cell_type": "code",
      "source": [
        "print(\"hello)"
      ],
      "metadata": {
        "colab": {
          "base_uri": "https://localhost:8080/",
          "height": 106
        },
        "id": "T2yo0rIfIBss",
        "outputId": "16fb8290-7e23-48f4-c304-e0d620e30ab5"
      },
      "execution_count": 17,
      "outputs": [
        {
          "output_type": "error",
          "ename": "SyntaxError",
          "evalue": "unterminated string literal (detected at line 1) (ipython-input-17-2149988476.py, line 1)",
          "traceback": [
            "\u001b[0;36m  File \u001b[0;32m\"/tmp/ipython-input-17-2149988476.py\"\u001b[0;36m, line \u001b[0;32m1\u001b[0m\n\u001b[0;31m    print(\"hello)\u001b[0m\n\u001b[0m          ^\u001b[0m\n\u001b[0;31mSyntaxError\u001b[0m\u001b[0;31m:\u001b[0m unterminated string literal (detected at line 1)\n"
          ]
        }
      ]
    },
    {
      "cell_type": "code",
      "source": [
        "name = \"John\"\n",
        "print(Name)"
      ],
      "metadata": {
        "colab": {
          "base_uri": "https://localhost:8080/",
          "height": 158
        },
        "id": "dfpNbrDFF91v",
        "outputId": "e9cd22da-11fa-428f-9827-47ef7cbf321b"
      },
      "execution_count": 16,
      "outputs": [
        {
          "output_type": "error",
          "ename": "NameError",
          "evalue": "name 'Name' is not defined",
          "traceback": [
            "\u001b[0;31m---------------------------------------------------------------------------\u001b[0m",
            "\u001b[0;31mNameError\u001b[0m                                 Traceback (most recent call last)",
            "\u001b[0;32m/tmp/ipython-input-16-4174963872.py\u001b[0m in \u001b[0;36m<cell line: 0>\u001b[0;34m()\u001b[0m\n\u001b[1;32m      1\u001b[0m \u001b[0mname\u001b[0m \u001b[0;34m=\u001b[0m \u001b[0;34m\"John\"\u001b[0m\u001b[0;34m\u001b[0m\u001b[0;34m\u001b[0m\u001b[0m\n\u001b[0;32m----> 2\u001b[0;31m \u001b[0mprint\u001b[0m\u001b[0;34m(\u001b[0m\u001b[0mName\u001b[0m\u001b[0;34m)\u001b[0m\u001b[0;34m\u001b[0m\u001b[0;34m\u001b[0m\u001b[0m\n\u001b[0m",
            "\u001b[0;31mNameError\u001b[0m: name 'Name' is not defined"
          ]
        }
      ]
    },
    {
      "cell_type": "code",
      "source": [
        "try:\n",
        "    # Code that might raise an exception\n",
        "except ExceptionType:\n",
        "    # Code to run if exception occurs\n",
        "else:\n",
        "    # Code to be run incase no error was encountered\n",
        "\n",
        "finally\n"
      ],
      "metadata": {
        "id": "0YSM44hc4dxO"
      },
      "execution_count": null,
      "outputs": []
    },
    {
      "cell_type": "code",
      "source": [
        "try:\n",
        "    a = int(input(\"Enter numerator: \"))\n",
        "    b = int(input(\"Enter denominator: \"))\n",
        "    result = a / b\n",
        "    print(\"Result:\", result)\n",
        "except:\n",
        "    print(\"You cannot divide by zero\")\n"
      ],
      "metadata": {
        "colab": {
          "base_uri": "https://localhost:8080/",
          "height": 0
        },
        "id": "7BmvAy8w_T9E",
        "outputId": "fcba4671-4097-4a23-e705-323d87f0ca7f"
      },
      "execution_count": 25,
      "outputs": [
        {
          "output_type": "stream",
          "name": "stdout",
          "text": [
            "Enter numerator: 45\n",
            "Enter denominator: 0\n",
            "You cannot divide by zero\n"
          ]
        }
      ]
    },
    {
      "cell_type": "code",
      "source": [
        "try:\n",
        "  num_1 = int(input(\"Enter a number\"))\n",
        "  num_2 = int(input(\"Enter another number\"))\n",
        "  result = num_1/num_2\n",
        "except ZeroDivisionError:\n",
        "  print(\"You cannot divide by Zero\")\n",
        "except ValueError:\n",
        "  print(\"Invalid value. Numerical value needed\")\n",
        "except:\n",
        "  print(\"Something went wrong\")"
      ],
      "metadata": {
        "colab": {
          "base_uri": "https://localhost:8080/",
          "height": 0
        },
        "id": "VETSuIC4Pc_e",
        "outputId": "091ca409-025c-4abb-b598-d7f81a4c8c45"
      },
      "execution_count": 32,
      "outputs": [
        {
          "output_type": "stream",
          "name": "stdout",
          "text": [
            "Something went wrong\n"
          ]
        }
      ]
    },
    {
      "cell_type": "code",
      "source": [
        "try:\n",
        "  user_creds = {\"John\":\"Passwr\",\"Mercy\":\"Passw\"}\n",
        "  name = input(\"What is your name\")\n",
        "  password = input(\"What is your password\")\n",
        "  if user_creds[name]==password:\n",
        "    print(\"Welcome\",name)\n",
        "  else:\n",
        "    print(\"Invalid credentials\")\n",
        "except KeyError:\n",
        "  print(\"The user does not exist\")\n",
        "else:\n",
        "  age = input(\"Whats is your age\")\n",
        "  print(name,\"'s age is\")"
      ],
      "metadata": {
        "colab": {
          "base_uri": "https://localhost:8080/",
          "height": 0
        },
        "id": "-Gou9PTiTPQt",
        "outputId": "1164c6f1-e5ee-4597-fdf5-636155ab2e44"
      },
      "execution_count": 40,
      "outputs": [
        {
          "output_type": "stream",
          "name": "stdout",
          "text": [
            "What is your namepeter\n",
            "What is your passwordPasswr\n",
            "The user does not exist\n"
          ]
        }
      ]
    },
    {
      "cell_type": "code",
      "source": [
        "try:\n",
        "    num = int(input(\"Enter a number: \"))\n",
        "    print(\"Square is\", num * num)\n",
        "except ValueError:\n",
        "    print(\"Not a number!\")\n",
        "else:\n",
        "    print(\"Operation successful.\")\n",
        "finally:\n",
        "    print(\"Finished processing.\")\n"
      ],
      "metadata": {
        "colab": {
          "base_uri": "https://localhost:8080/",
          "height": 373
        },
        "id": "iHegytAU_d5E",
        "outputId": "1d94d0bb-760d-4862-fc6f-675d3c2f4374"
      },
      "execution_count": 39,
      "outputs": [
        {
          "output_type": "stream",
          "name": "stdout",
          "text": [
            "Finished processing.\n"
          ]
        },
        {
          "output_type": "error",
          "ename": "KeyboardInterrupt",
          "evalue": "Interrupted by user",
          "traceback": [
            "\u001b[0;31m---------------------------------------------------------------------------\u001b[0m",
            "\u001b[0;31mKeyboardInterrupt\u001b[0m                         Traceback (most recent call last)",
            "\u001b[0;32m/tmp/ipython-input-39-3813043266.py\u001b[0m in \u001b[0;36m<cell line: 0>\u001b[0;34m()\u001b[0m\n\u001b[1;32m      1\u001b[0m \u001b[0;32mtry\u001b[0m\u001b[0;34m:\u001b[0m\u001b[0;34m\u001b[0m\u001b[0;34m\u001b[0m\u001b[0m\n\u001b[0;32m----> 2\u001b[0;31m     \u001b[0mnum\u001b[0m \u001b[0;34m=\u001b[0m \u001b[0mint\u001b[0m\u001b[0;34m(\u001b[0m\u001b[0minput\u001b[0m\u001b[0;34m(\u001b[0m\u001b[0;34m\"Enter a number: \"\u001b[0m\u001b[0;34m)\u001b[0m\u001b[0;34m)\u001b[0m\u001b[0;34m\u001b[0m\u001b[0;34m\u001b[0m\u001b[0m\n\u001b[0m\u001b[1;32m      3\u001b[0m     \u001b[0mprint\u001b[0m\u001b[0;34m(\u001b[0m\u001b[0;34m\"Square is\"\u001b[0m\u001b[0;34m,\u001b[0m \u001b[0mnum\u001b[0m \u001b[0;34m*\u001b[0m \u001b[0mnum\u001b[0m\u001b[0;34m)\u001b[0m\u001b[0;34m\u001b[0m\u001b[0;34m\u001b[0m\u001b[0m\n\u001b[1;32m      4\u001b[0m \u001b[0;32mexcept\u001b[0m \u001b[0mValueError\u001b[0m\u001b[0;34m:\u001b[0m\u001b[0;34m\u001b[0m\u001b[0;34m\u001b[0m\u001b[0m\n\u001b[1;32m      5\u001b[0m     \u001b[0mprint\u001b[0m\u001b[0;34m(\u001b[0m\u001b[0;34m\"Not a number!\"\u001b[0m\u001b[0;34m)\u001b[0m\u001b[0;34m\u001b[0m\u001b[0;34m\u001b[0m\u001b[0m\n",
            "\u001b[0;32m/usr/local/lib/python3.11/dist-packages/ipykernel/kernelbase.py\u001b[0m in \u001b[0;36mraw_input\u001b[0;34m(self, prompt)\u001b[0m\n\u001b[1;32m   1175\u001b[0m                 \u001b[0;34m\"raw_input was called, but this frontend does not support input requests.\"\u001b[0m\u001b[0;34m\u001b[0m\u001b[0;34m\u001b[0m\u001b[0m\n\u001b[1;32m   1176\u001b[0m             )\n\u001b[0;32m-> 1177\u001b[0;31m         return self._input_request(\n\u001b[0m\u001b[1;32m   1178\u001b[0m             \u001b[0mstr\u001b[0m\u001b[0;34m(\u001b[0m\u001b[0mprompt\u001b[0m\u001b[0;34m)\u001b[0m\u001b[0;34m,\u001b[0m\u001b[0;34m\u001b[0m\u001b[0;34m\u001b[0m\u001b[0m\n\u001b[1;32m   1179\u001b[0m             \u001b[0mself\u001b[0m\u001b[0;34m.\u001b[0m\u001b[0m_parent_ident\u001b[0m\u001b[0;34m[\u001b[0m\u001b[0;34m\"shell\"\u001b[0m\u001b[0;34m]\u001b[0m\u001b[0;34m,\u001b[0m\u001b[0;34m\u001b[0m\u001b[0;34m\u001b[0m\u001b[0m\n",
            "\u001b[0;32m/usr/local/lib/python3.11/dist-packages/ipykernel/kernelbase.py\u001b[0m in \u001b[0;36m_input_request\u001b[0;34m(self, prompt, ident, parent, password)\u001b[0m\n\u001b[1;32m   1217\u001b[0m             \u001b[0;32mexcept\u001b[0m \u001b[0mKeyboardInterrupt\u001b[0m\u001b[0;34m:\u001b[0m\u001b[0;34m\u001b[0m\u001b[0;34m\u001b[0m\u001b[0m\n\u001b[1;32m   1218\u001b[0m                 \u001b[0;31m# re-raise KeyboardInterrupt, to truncate traceback\u001b[0m\u001b[0;34m\u001b[0m\u001b[0;34m\u001b[0m\u001b[0m\n\u001b[0;32m-> 1219\u001b[0;31m                 \u001b[0;32mraise\u001b[0m \u001b[0mKeyboardInterrupt\u001b[0m\u001b[0;34m(\u001b[0m\u001b[0;34m\"Interrupted by user\"\u001b[0m\u001b[0;34m)\u001b[0m \u001b[0;32mfrom\u001b[0m \u001b[0;32mNone\u001b[0m\u001b[0;34m\u001b[0m\u001b[0;34m\u001b[0m\u001b[0m\n\u001b[0m\u001b[1;32m   1220\u001b[0m             \u001b[0;32mexcept\u001b[0m \u001b[0mException\u001b[0m\u001b[0;34m:\u001b[0m\u001b[0;34m\u001b[0m\u001b[0;34m\u001b[0m\u001b[0m\n\u001b[1;32m   1221\u001b[0m                 \u001b[0mself\u001b[0m\u001b[0;34m.\u001b[0m\u001b[0mlog\u001b[0m\u001b[0;34m.\u001b[0m\u001b[0mwarning\u001b[0m\u001b[0;34m(\u001b[0m\u001b[0;34m\"Invalid Message:\"\u001b[0m\u001b[0;34m,\u001b[0m \u001b[0mexc_info\u001b[0m\u001b[0;34m=\u001b[0m\u001b[0;32mTrue\u001b[0m\u001b[0;34m)\u001b[0m\u001b[0;34m\u001b[0m\u001b[0;34m\u001b[0m\u001b[0m\n",
            "\u001b[0;31mKeyboardInterrupt\u001b[0m: Interrupted by user"
          ]
        }
      ]
    },
    {
      "cell_type": "markdown",
      "source": [
        "Write a program that:\n",
        "\n",
        "1. Asks the user for two numbers\n",
        "\n",
        "2. Performs division\n",
        "\n",
        "3. Handles ValueError and ZeroDivisionError\n",
        "\n",
        "4. Keeps asking until correct input is given"
      ],
      "metadata": {
        "id": "pzRXy_WlA4_l"
      }
    },
    {
      "cell_type": "markdown",
      "source": [
        "# File handling\n",
        "\n",
        "\n",
        "| Mode   | Description                                                    |\n",
        "| ------ | -------------------------------------------------------------- |\n",
        "| `'r'`  | Read (default). File must exist.                               |\n",
        "| `'w'`  | Write. Creates a new file or overwrites existing.              |\n",
        "| `'a'`  | Append. Adds to end of file. Creates file if it doesn't exist. |\n",
        "| `'r+'` | Read and write. File must exist.                               |\n"
      ],
      "metadata": {
        "id": "_u4KwMEXBX3W"
      }
    },
    {
      "cell_type": "code",
      "source": [
        "#sysntax\n",
        "file = open(\"filename\", \"mode\")\n"
      ],
      "metadata": {
        "id": "qnEOch78BXDk"
      },
      "execution_count": null,
      "outputs": []
    },
    {
      "cell_type": "code",
      "source": [
        "# Read full content\n",
        "file = open(\"example.txt\", \"r\")\n",
        "content = file.read()\n",
        "print(content)\n",
        "file.close()\n"
      ],
      "metadata": {
        "colab": {
          "base_uri": "https://localhost:8080/",
          "height": 0
        },
        "id": "-4KdwgXTB8v1",
        "outputId": "ad5a4ea0-248d-4749-a836-36f3753a9ee1"
      },
      "execution_count": 1,
      "outputs": [
        {
          "output_type": "stream",
          "name": "stdout",
          "text": [
            "Welcome to Python Programming!\n",
            "This file contains multiple lines.\n",
            "You can read this file line by line.\n",
            "File handling is very useful.\n",
            "Let's learn by doing.\n"
          ]
        }
      ]
    },
    {
      "cell_type": "code",
      "source": [
        "file = open(\"example.txt\", \"r\")\n",
        "line_1 = file.readline()  # Reads one line\n",
        "all_lines = file.readlines() # Returns a list of lines\n",
        "file.close()\n",
        "print(line_1)\n",
        "print(all_lines)"
      ],
      "metadata": {
        "colab": {
          "base_uri": "https://localhost:8080/",
          "height": 0
        },
        "id": "qQg_Cn64Dalh",
        "outputId": "8005d3ce-67fb-4ba3-a7c1-b7838c81636f"
      },
      "execution_count": 3,
      "outputs": [
        {
          "output_type": "stream",
          "name": "stdout",
          "text": [
            "Welcome to Python Programming!\n",
            "\n",
            "['This file contains multiple lines.\\n', 'You can read this file line by line.\\n', 'File handling is very useful.\\n', \"Let's learn by doing.\"]\n"
          ]
        }
      ]
    },
    {
      "cell_type": "code",
      "source": [
        "file = open(\"output.txt\", \"w\")\n",
        "file.write(\"This is a new file.\\n\")\n",
        "file.write(\"Hello!\\n\")\n",
        "file.close()\n"
      ],
      "metadata": {
        "id": "4Dhz1x0QDiH0"
      },
      "execution_count": 41,
      "outputs": []
    },
    {
      "cell_type": "code",
      "source": [
        "print(\"\\\\\")"
      ],
      "metadata": {
        "colab": {
          "base_uri": "https://localhost:8080/",
          "height": 0
        },
        "id": "ymoeBXsKyx1h",
        "outputId": "c2c72313-a00e-4c12-b21c-5bbb6a148d4e"
      },
      "execution_count": 43,
      "outputs": [
        {
          "output_type": "stream",
          "name": "stdout",
          "text": [
            "\\\n"
          ]
        }
      ]
    },
    {
      "cell_type": "code",
      "source": [
        "file = open(\"output.txt\", \"a\")\n",
        "file.write(\"Adding more content...\\n\")\n",
        "file.close()\n"
      ],
      "metadata": {
        "id": "uBNzxjG9D1sy"
      },
      "execution_count": 5,
      "outputs": []
    },
    {
      "cell_type": "code",
      "source": [
        "with open(\"example.txt\", \"r\") as file:\n",
        "    all_lines = file.readlines()\n",
        "    print(all_lines)\n"
      ],
      "metadata": {
        "colab": {
          "base_uri": "https://localhost:8080/",
          "height": 0
        },
        "id": "KjdvOwQzD6E1",
        "outputId": "9ea74ff4-718b-4f01-ebd9-52620c5db9ca"
      },
      "execution_count": 8,
      "outputs": [
        {
          "output_type": "stream",
          "name": "stdout",
          "text": [
            "['Welcome to Python Programming!\\n', 'This file contains multiple lines.\\n', 'You can read this file line by line.\\n', 'File handling is very useful.\\n', \"Let's learn by doing.\"]\n"
          ]
        }
      ]
    },
    {
      "cell_type": "code",
      "source": [
        "try:\n",
        "    with open(\"missing.txt\", \"r\") as file:\n",
        "        content = file.read()\n",
        "except FileNotFoundError:\n",
        "    print(\"The file was not found.\")\n"
      ],
      "metadata": {
        "colab": {
          "base_uri": "https://localhost:8080/",
          "height": 0
        },
        "id": "1NUgkb5FEArS",
        "outputId": "184b8a6d-c19e-4de2-ab4d-59a5a382dcc1"
      },
      "execution_count": 9,
      "outputs": [
        {
          "output_type": "stream",
          "name": "stdout",
          "text": [
            "The file was not found.\n"
          ]
        }
      ]
    },
    {
      "cell_type": "code",
      "source": [
        "# example of copying a file\n",
        "with open(\"source.txt\", \"r\") as source, open(\"destination.txt\", \"w\") as dest:\n",
        "    for line in source:\n",
        "        dest.write(line)"
      ],
      "metadata": {
        "id": "kNdhBYMzEYTC"
      },
      "execution_count": null,
      "outputs": []
    },
    {
      "cell_type": "code",
      "source": [
        "#csv library\n",
        "import csv\n",
        "\n",
        "contents = []\n",
        "with open(\"data.csv\", \"r\") as file:\n",
        "    reader = csv.reader(file)\n",
        "    contents = list(reader)\n",
        "    for row in reader:\n",
        "        print(row)"
      ],
      "metadata": {
        "id": "WZSLK56fErtg"
      },
      "execution_count": 46,
      "outputs": []
    },
    {
      "cell_type": "code",
      "source": [
        "print(contents)"
      ],
      "metadata": {
        "colab": {
          "base_uri": "https://localhost:8080/",
          "height": 0
        },
        "id": "Lz2a5ExGEwWG",
        "outputId": "b15da6d1-9dbf-44f0-94cb-0a8dfb89e4a2"
      },
      "execution_count": 47,
      "outputs": [
        {
          "output_type": "stream",
          "name": "stdout",
          "text": [
            "[['Name', 'Age', 'Grade'], ['Alice', '14', 'A'], ['Bob', '15', 'B'], ['Charlie', '13', 'A'], ['David', '14', 'C'], ['Eve', '15', 'A']]\n"
          ]
        }
      ]
    },
    {
      "cell_type": "markdown",
      "source": [
        "Build a small contact book using a file:\n",
        "\n",
        "- Each contact: name, phone, email\n",
        "\n",
        "- Save each contact in contacts.txt\n",
        "\n",
        "- Menu: Add contact, View contacts, Search by name"
      ],
      "metadata": {
        "id": "nvzPxw7xFav1"
      }
    },
    {
      "cell_type": "code",
      "source": [],
      "metadata": {
        "id": "L6WKtcINE3ts"
      },
      "execution_count": null,
      "outputs": []
    }
  ]
}